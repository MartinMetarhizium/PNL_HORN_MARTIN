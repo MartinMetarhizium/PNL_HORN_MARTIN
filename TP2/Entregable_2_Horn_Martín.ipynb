{
  "cells": [
    {
      "cell_type": "markdown",
      "metadata": {
        "id": "sZd5yLnnHOK0"
      },
      "source": [
        "<img src=\"https://github.com/hernancontigiani/ceia_memorias_especializacion/raw/master/Figures/logoFIUBA.jpg\" width=\"500\" align=\"center\">\n",
        "\n",
        "\n",
        "# Procesamiento de lenguaje natural\n",
        "## Custom embedddings con Gensim\n",
        "\n",
        "\n",
        "### Alumno: Horn Martín\n",
        "\n"
      ]
    },
    {
      "cell_type": "markdown",
      "metadata": {
        "id": "vA7nqkumo9z9"
      },
      "source": [
        "### Objetivo\n",
        "El objetivo es utilizar documentos / corpus para crear embeddings de palabras basado en ese contexto. Se utilizará canciones de bandas para generar los embeddings, es decir, que los vectores tendrán la forma en función de como esa banda haya utilizado las palabras en sus canciones."
      ]
    },
    {
      "cell_type": "code",
      "source": [
        "!pip install -U numpy gensim\n",
        "import os\n",
        "os.kill(os.getpid(), 9)"
      ],
      "metadata": {
        "colab": {
          "base_uri": "https://localhost:8080/"
        },
        "id": "H25Bxrsog4-a",
        "outputId": "c0b0ae87-ac0c-41e7-f21e-58854299d860"
      },
      "execution_count": null,
      "outputs": [
        {
          "output_type": "stream",
          "name": "stdout",
          "text": [
            "Requirement already satisfied: numpy in /usr/local/lib/python3.11/dist-packages (2.0.2)\n",
            "Collecting numpy\n",
            "  Downloading numpy-2.2.4-cp311-cp311-manylinux_2_17_x86_64.manylinux2014_x86_64.whl.metadata (62 kB)\n",
            "\u001b[2K     \u001b[90m━━━━━━━━━━━━━━━━━━━━━━━━━━━━━━━━━━━━━━━━\u001b[0m \u001b[32m62.0/62.0 kB\u001b[0m \u001b[31m508.3 kB/s\u001b[0m eta \u001b[36m0:00:00\u001b[0m\n",
            "\u001b[?25hCollecting gensim\n",
            "  Downloading gensim-4.3.3-cp311-cp311-manylinux_2_17_x86_64.manylinux2014_x86_64.whl.metadata (8.1 kB)\n",
            "Collecting numpy\n",
            "  Downloading numpy-1.26.4-cp311-cp311-manylinux_2_17_x86_64.manylinux2014_x86_64.whl.metadata (61 kB)\n",
            "\u001b[2K     \u001b[90m━━━━━━━━━━━━━━━━━━━━━━━━━━━━━━━━━━━━━━━━\u001b[0m \u001b[32m61.0/61.0 kB\u001b[0m \u001b[31m2.3 MB/s\u001b[0m eta \u001b[36m0:00:00\u001b[0m\n",
            "\u001b[?25hCollecting scipy<1.14.0,>=1.7.0 (from gensim)\n",
            "  Downloading scipy-1.13.1-cp311-cp311-manylinux_2_17_x86_64.manylinux2014_x86_64.whl.metadata (60 kB)\n",
            "\u001b[2K     \u001b[90m━━━━━━━━━━━━━━━━━━━━━━━━━━━━━━━━━━━━━━━━\u001b[0m \u001b[32m60.6/60.6 kB\u001b[0m \u001b[31m1.3 MB/s\u001b[0m eta \u001b[36m0:00:00\u001b[0m\n",
            "\u001b[?25hRequirement already satisfied: smart-open>=1.8.1 in /usr/local/lib/python3.11/dist-packages (from gensim) (7.1.0)\n",
            "Requirement already satisfied: wrapt in /usr/local/lib/python3.11/dist-packages (from smart-open>=1.8.1->gensim) (1.17.2)\n",
            "Downloading gensim-4.3.3-cp311-cp311-manylinux_2_17_x86_64.manylinux2014_x86_64.whl (26.7 MB)\n",
            "\u001b[2K   \u001b[90m━━━━━━━━━━━━━━━━━━━━━━━━━━━━━━━━━━━━━━━━\u001b[0m \u001b[32m26.7/26.7 MB\u001b[0m \u001b[31m16.8 MB/s\u001b[0m eta \u001b[36m0:00:00\u001b[0m\n",
            "\u001b[?25hDownloading numpy-1.26.4-cp311-cp311-manylinux_2_17_x86_64.manylinux2014_x86_64.whl (18.3 MB)\n",
            "\u001b[2K   \u001b[90m━━━━━━━━━━━━━━━━━━━━━━━━━━━━━━━━━━━━━━━━\u001b[0m \u001b[32m18.3/18.3 MB\u001b[0m \u001b[31m16.4 MB/s\u001b[0m eta \u001b[36m0:00:00\u001b[0m\n",
            "\u001b[?25hDownloading scipy-1.13.1-cp311-cp311-manylinux_2_17_x86_64.manylinux2014_x86_64.whl (38.6 MB)\n",
            "\u001b[2K   \u001b[90m━━━━━━━━━━━━━━━━━━━━━━━━━━━━━━━━━━━━━━━━\u001b[0m \u001b[32m38.6/38.6 MB\u001b[0m \u001b[31m7.5 MB/s\u001b[0m eta \u001b[36m0:00:00\u001b[0m\n",
            "\u001b[?25hInstalling collected packages: numpy, scipy, gensim\n",
            "  Attempting uninstall: numpy\n",
            "    Found existing installation: numpy 2.0.2\n",
            "    Uninstalling numpy-2.0.2:\n",
            "      Successfully uninstalled numpy-2.0.2\n",
            "  Attempting uninstall: scipy\n",
            "    Found existing installation: scipy 1.14.1\n",
            "    Uninstalling scipy-1.14.1:\n",
            "      Successfully uninstalled scipy-1.14.1\n",
            "Successfully installed gensim-4.3.3 numpy-1.26.4 scipy-1.13.1\n"
          ]
        }
      ]
    },
    {
      "cell_type": "code",
      "execution_count": null,
      "metadata": {
        "id": "lFToQs5FK5uZ"
      },
      "outputs": [],
      "source": [
        "import pandas as pd\n",
        "import matplotlib.pyplot as plt\n",
        "import seaborn as sns\n",
        "\n",
        "import multiprocessing\n",
        "from gensim.models import Word2Vec"
      ]
    },
    {
      "cell_type": "markdown",
      "metadata": {
        "id": "g07zJxG7H9vG"
      },
      "source": [
        "### Datos\n",
        "Utilizaremos como dataset canciones de bandas de habla inglesa."
      ]
    },
    {
      "cell_type": "code",
      "source": [
        "!pip install -q kaggle"
      ],
      "metadata": {
        "id": "ux6lstp_ixzW"
      },
      "execution_count": null,
      "outputs": []
    },
    {
      "cell_type": "code",
      "source": [
        "import kagglehub\n",
        "\n",
        "# Download latest version\n",
        "path = kagglehub.dataset_download(\"neisse/scrapped-lyrics-from-6-genres\")\n",
        "\n",
        "print(\"Path to dataset files:\", path)"
      ],
      "metadata": {
        "colab": {
          "base_uri": "https://localhost:8080/"
        },
        "id": "1srEeB2pi1Ws",
        "outputId": "d51c192f-c15a-4f05-e491-1ab0f916d3cd"
      },
      "execution_count": null,
      "outputs": [
        {
          "output_type": "stream",
          "name": "stdout",
          "text": [
            "Downloading from https://www.kaggle.com/api/v1/datasets/download/neisse/scrapped-lyrics-from-6-genres?dataset_version_number=3...\n"
          ]
        },
        {
          "output_type": "stream",
          "name": "stderr",
          "text": [
            "100%|██████████| 129M/129M [00:02<00:00, 51.5MB/s]"
          ]
        },
        {
          "output_type": "stream",
          "name": "stdout",
          "text": [
            "Extracting files...\n"
          ]
        },
        {
          "output_type": "stream",
          "name": "stderr",
          "text": [
            "\n"
          ]
        },
        {
          "output_type": "stream",
          "name": "stdout",
          "text": [
            "Path to dataset files: /root/.cache/kagglehub/datasets/neisse/scrapped-lyrics-from-6-genres/versions/3\n"
          ]
        }
      ]
    },
    {
      "cell_type": "code",
      "execution_count": null,
      "metadata": {
        "id": "mysGrIw9ljC2",
        "colab": {
          "base_uri": "https://localhost:8080/"
        },
        "outputId": "30c6b6b9-9a06-43cb-bae9-c3dd57509275"
      },
      "outputs": [
        {
          "output_type": "execute_result",
          "data": {
            "text/plain": [
              "['artists-data.csv', 'lyrics-data.csv']"
            ]
          },
          "metadata": {},
          "execution_count": 4
        }
      ],
      "source": [
        "# Posibles bandas\n",
        "import os\n",
        "os.listdir(\"/root/.cache/kagglehub/datasets/neisse/scrapped-lyrics-from-6-genres/versions/3\")"
      ]
    },
    {
      "cell_type": "code",
      "execution_count": null,
      "metadata": {
        "id": "ticoqYD1Z3I7",
        "colab": {
          "base_uri": "https://localhost:8080/"
        },
        "outputId": "fa7e7acd-42f7-499a-de76-0347ac22bce0"
      },
      "outputs": [
        {
          "output_type": "stream",
          "name": "stdout",
          "text": [
            "Index(['ALink', 'SName', 'SLink', 'Lyric', 'language'], dtype='object')\n"
          ]
        }
      ],
      "source": [
        "import pandas as pd\n",
        "\n",
        "# Usamos el archivo lyrics-data.csv que contiene las letras\n",
        "csv_path = f\"{path}/lyrics-data.csv\"\n",
        "\n",
        "df = pd.read_csv(csv_path)\n",
        "\n",
        "# Mostramos las columnas disponibles\n",
        "print(df.columns)"
      ]
    },
    {
      "cell_type": "code",
      "execution_count": null,
      "metadata": {
        "id": "LEpKubK9XzXN",
        "colab": {
          "base_uri": "https://localhost:8080/"
        },
        "outputId": "c10280dd-219f-4512-ec1e-c2e7a700171a"
      },
      "outputs": [
        {
          "output_type": "stream",
          "name": "stdout",
          "text": [
            "Cantidad de documentos: 379931\n"
          ]
        }
      ],
      "source": [
        "print(\"Cantidad de documentos:\", df.shape[0])"
      ]
    },
    {
      "cell_type": "code",
      "source": [
        "df = df.dropna(subset=[\"Lyric\"])  # Asegurarse de que no haya NaN\n",
        "df = df[df[\"Lyric\"].apply(lambda x: isinstance(x, str))]\n",
        "\n",
        "print(\"Cantidad de documentos:\", df.shape[0])"
      ],
      "metadata": {
        "colab": {
          "base_uri": "https://localhost:8080/"
        },
        "id": "YEEE7K1okTZp",
        "outputId": "4fbdb06f-5a27-46d7-df28-b424cbdac104"
      },
      "execution_count": null,
      "outputs": [
        {
          "output_type": "stream",
          "name": "stdout",
          "text": [
            "Cantidad de documentos: 379854\n"
          ]
        }
      ]
    },
    {
      "cell_type": "markdown",
      "source": [
        " Se eliminó el ruido del dataset (NaN y valores no string).\n",
        "\n",
        "📖 Las letras fueron tokenizadas palabra por palabra, generando una lista de listas de palabras.\n",
        "\n",
        "🔄 Aunque muchas letras incluyen repeticiones, interjecciones o invenciones lingüísticas, estas fueron conservadas para preservar el estilo lírico.\n",
        "\n"
      ],
      "metadata": {
        "id": "AQvazMqPGaGH"
      }
    },
    {
      "cell_type": "markdown",
      "metadata": {
        "id": "ab94qaFlrA1G"
      },
      "source": [
        "### 1 - Preprocesamiento"
      ]
    },
    {
      "cell_type": "code",
      "execution_count": null,
      "metadata": {
        "id": "rIsmMWmjrDHd"
      },
      "outputs": [],
      "source": [
        "from tensorflow.keras.preprocessing.text import text_to_word_sequence\n",
        "\n",
        "sentence_tokens = []\n",
        "\n",
        "for _, row in df.iterrows():\n",
        "    sentence_tokens.append(text_to_word_sequence(row['Lyric']))"
      ]
    },
    {
      "cell_type": "code",
      "source": [],
      "metadata": {
        "id": "2LG9l3B_GXdI"
      },
      "execution_count": null,
      "outputs": []
    },
    {
      "cell_type": "code",
      "execution_count": null,
      "metadata": {
        "id": "CHepi_DGrbhq",
        "colab": {
          "base_uri": "https://localhost:8080/"
        },
        "outputId": "f4c8f8e3-80c0-4fc3-dbcb-1d8bfba7cccd"
      },
      "outputs": [
        {
          "output_type": "execute_result",
          "data": {
            "text/plain": [
              "[['tudo',\n",
              "  'o',\n",
              "  'que',\n",
              "  'eu',\n",
              "  'quero',\n",
              "  'nessa',\n",
              "  'vida',\n",
              "  'toda',\n",
              "  'vida',\n",
              "  'é',\n",
              "  'é',\n",
              "  'amar',\n",
              "  'você',\n",
              "  'amar',\n",
              "  'você',\n",
              "  'o',\n",
              "  'seu',\n",
              "  'amor',\n",
              "  'é',\n",
              "  'como',\n",
              "  'uma',\n",
              "  'chama',\n",
              "  'acesa',\n",
              "  'queima',\n",
              "  'de',\n",
              "  'prazer',\n",
              "  'de',\n",
              "  'prazer',\n",
              "  'eu',\n",
              "  'já',\n",
              "  'falei',\n",
              "  'com',\n",
              "  'deus',\n",
              "  'que',\n",
              "  'não',\n",
              "  'vou',\n",
              "  'te',\n",
              "  'deixar',\n",
              "  'vou',\n",
              "  'te',\n",
              "  'levar',\n",
              "  'pra',\n",
              "  'onde',\n",
              "  'for',\n",
              "  'qualquer',\n",
              "  'lugar',\n",
              "  'já',\n",
              "  'fiz',\n",
              "  'de',\n",
              "  'tudo',\n",
              "  'pra',\n",
              "  'não',\n",
              "  'te',\n",
              "  'perder',\n",
              "  'arerê',\n",
              "  'um',\n",
              "  'lobby',\n",
              "  'um',\n",
              "  'hobby',\n",
              "  'um',\n",
              "  'love',\n",
              "  'com',\n",
              "  'você',\n",
              "  'arerê',\n",
              "  'um',\n",
              "  'lobby',\n",
              "  'um',\n",
              "  'hobby',\n",
              "  'um',\n",
              "  'love',\n",
              "  'com',\n",
              "  'você',\n",
              "  'cai',\n",
              "  'cai',\n",
              "  'cai',\n",
              "  'cai',\n",
              "  'cai',\n",
              "  'pra',\n",
              "  'cá',\n",
              "  'hey',\n",
              "  'hey',\n",
              "  'hey',\n",
              "  'tu',\n",
              "  'do',\n",
              "  'tu',\n",
              "  'do',\n",
              "  'vai',\n",
              "  'rolar'],\n",
              " ['meu',\n",
              "  'coração',\n",
              "  'sem',\n",
              "  'direção',\n",
              "  'voando',\n",
              "  'só',\n",
              "  'por',\n",
              "  'voar',\n",
              "  'sem',\n",
              "  'saber',\n",
              "  'onde',\n",
              "  'chegar',\n",
              "  'sonhando',\n",
              "  'em',\n",
              "  'te',\n",
              "  'encontrar',\n",
              "  'e',\n",
              "  'as',\n",
              "  'estrelas',\n",
              "  'que',\n",
              "  'hoje',\n",
              "  'eu',\n",
              "  'descobri',\n",
              "  'no',\n",
              "  'seu',\n",
              "  'olhar',\n",
              "  'as',\n",
              "  'estrelas',\n",
              "  'vão',\n",
              "  'me',\n",
              "  'guiar',\n",
              "  'se',\n",
              "  'eu',\n",
              "  'não',\n",
              "  'te',\n",
              "  'amasse',\n",
              "  'tanto',\n",
              "  'assim',\n",
              "  'talvez',\n",
              "  'perdesse',\n",
              "  'os',\n",
              "  'sonhos',\n",
              "  'dentro',\n",
              "  'de',\n",
              "  'mim',\n",
              "  'e',\n",
              "  'vivesse',\n",
              "  'na',\n",
              "  'escuridão',\n",
              "  'se',\n",
              "  'eu',\n",
              "  'não',\n",
              "  'te',\n",
              "  'amasse',\n",
              "  'tanto',\n",
              "  'assim',\n",
              "  'talvez',\n",
              "  'não',\n",
              "  'visse',\n",
              "  'flores',\n",
              "  'por',\n",
              "  'onde',\n",
              "  'eu',\n",
              "  'vi',\n",
              "  'dentro',\n",
              "  'do',\n",
              "  'meu',\n",
              "  'coração',\n",
              "  'hoje',\n",
              "  'eu',\n",
              "  'sei',\n",
              "  'eu',\n",
              "  'te',\n",
              "  'amei',\n",
              "  'no',\n",
              "  'vento',\n",
              "  'de',\n",
              "  'um',\n",
              "  'temporal',\n",
              "  'mas',\n",
              "  'fui',\n",
              "  'mais',\n",
              "  'muito',\n",
              "  'além',\n",
              "  'do',\n",
              "  'tempo',\n",
              "  'do',\n",
              "  'vendaval',\n",
              "  'nos',\n",
              "  'desejos',\n",
              "  'num',\n",
              "  'beijo',\n",
              "  'que',\n",
              "  'eu',\n",
              "  'jamais',\n",
              "  'provei',\n",
              "  'igual',\n",
              "  'e',\n",
              "  'as',\n",
              "  'estrelas',\n",
              "  'dão',\n",
              "  'um',\n",
              "  'sinal',\n",
              "  'se',\n",
              "  'eu',\n",
              "  'não',\n",
              "  'te',\n",
              "  'amasse',\n",
              "  'tanto',\n",
              "  'assim',\n",
              "  'talvez',\n",
              "  'perdesse',\n",
              "  'os',\n",
              "  'sonhos',\n",
              "  'dentro',\n",
              "  'de',\n",
              "  'mim',\n",
              "  'e',\n",
              "  'vivesse',\n",
              "  'na',\n",
              "  'escuridão',\n",
              "  'se',\n",
              "  'eu',\n",
              "  'não',\n",
              "  'te',\n",
              "  'amasse',\n",
              "  'tanto',\n",
              "  'assim',\n",
              "  'talvez',\n",
              "  'não',\n",
              "  'visse',\n",
              "  'flores',\n",
              "  'por',\n",
              "  'onde',\n",
              "  'eu',\n",
              "  'vi',\n",
              "  'dentro',\n",
              "  'do',\n",
              "  'meu',\n",
              "  'coração']]"
            ]
          },
          "metadata": {},
          "execution_count": 9
        }
      ],
      "source": [
        "# Demos un vistazo\n",
        "sentence_tokens[:2]"
      ]
    },
    {
      "cell_type": "markdown",
      "source": [
        "Al revisar las primeras letras tokenizadas, se identificó que el idioma principal del dataset es portugués, no inglés como se asumía inicialmente.\n",
        "\n",
        "Esto implica que el modelo Word2Vec entrenado aprenderá semántica y asociaciones específicas del portugués y del lenguaje poético/musical."
      ],
      "metadata": {
        "id": "c-vLa3jWlcIF"
      }
    },
    {
      "cell_type": "markdown",
      "metadata": {
        "id": "BaXV6nlHr5Aa"
      },
      "source": [
        "### 2 - Crear los vectores (word2vec)"
      ]
    },
    {
      "cell_type": "code",
      "execution_count": null,
      "metadata": {
        "id": "OSb0v7h8r7hK"
      },
      "outputs": [],
      "source": [
        "from gensim.models.callbacks import CallbackAny2Vec\n",
        "# Durante el entrenamiento gensim por defecto no informa el \"loss\" en cada época\n",
        "# Sobrecargamos el callback para poder tener esta información\n",
        "\n",
        "\n",
        "class callback(CallbackAny2Vec):\n",
        "    \"\"\"\n",
        "    Callback to print loss after each epoch\n",
        "    \"\"\"\n",
        "    def __init__(self):\n",
        "        self.epoch = 0\n",
        "\n",
        "    def on_epoch_end(self, model):\n",
        "        loss = model.get_latest_training_loss()\n",
        "        if self.epoch == 0:\n",
        "            print('Loss after epoch {}: {}'.format(self.epoch, loss))\n",
        "        else:\n",
        "            print('Loss after epoch {}: {}'.format(self.epoch, loss- self.loss_previous_step))\n",
        "        self.epoch += 1\n",
        "        self.loss_previous_step = loss"
      ]
    },
    {
      "cell_type": "markdown",
      "source": [
        " Construcción del modelo Word2Vec\n",
        "Se utilizó el enfoque Skip-Gram con vector_size=300, window=2 y negative sampling = 20.\n",
        "\n",
        "El modelo fue entrenado con éxito sobre 10.000 canciones (para acelerar el entrenamiento de los iniciales 379854), generando vectores para ~19.000 palabras distintas.\n",
        "\n",
        "La pérdida durante las épocas mostró una disminución significativa, especialmente en las primeras 5 épocas, lo que indica aprendizaje efectivo."
      ],
      "metadata": {
        "id": "0geuzf1jGtmL"
      }
    },
    {
      "cell_type": "code",
      "execution_count": null,
      "metadata": {
        "id": "i0wnDdv9sJ47"
      },
      "outputs": [],
      "source": [
        "# Crearmos el modelo generador de vectores\n",
        "# En este caso utilizaremos la estructura modelo Skipgram\n",
        "w2v_model = Word2Vec(min_count=5,    # frecuencia mínima de palabra para incluirla en el vocabulario\n",
        "                     window=2,       # cant de palabras antes y desp de la predicha\n",
        "                     vector_size=300,       # dimensionalidad de los vectores\n",
        "                     negative=20,    # cantidad de negative samples... 0 es no se usa\n",
        "                     workers=1,      # si tienen más cores pueden cambiar este valor\n",
        "                     sg=1)           # modelo 0:CBOW  1:skipgram"
      ]
    },
    {
      "cell_type": "code",
      "execution_count": null,
      "metadata": {
        "id": "5lTt8wErsf17"
      },
      "outputs": [],
      "source": [
        "# Obtener el vocabulario con los token\n",
        "reduced_tokens= sentence_tokens[0:10000]\n",
        "w2v_model.build_vocab(reduced_tokens)"
      ]
    },
    {
      "cell_type": "code",
      "execution_count": null,
      "metadata": {
        "id": "TNc9qt4os5AT",
        "colab": {
          "base_uri": "https://localhost:8080/"
        },
        "outputId": "8342508b-c967-400b-faa4-25b5c909e487"
      },
      "outputs": [
        {
          "output_type": "stream",
          "name": "stdout",
          "text": [
            "Cantidad de docs en el corpus: 10000\n"
          ]
        }
      ],
      "source": [
        "# Cantidad de filas/docs encontradas en el corpus\n",
        "print(\"Cantidad de docs en el corpus:\", w2v_model.corpus_count)"
      ]
    },
    {
      "cell_type": "code",
      "execution_count": null,
      "metadata": {
        "id": "idw9cHF3tSMl",
        "colab": {
          "base_uri": "https://localhost:8080/"
        },
        "outputId": "57643d32-90c7-4f24-e205-79a6583a5e14"
      },
      "outputs": [
        {
          "output_type": "stream",
          "name": "stdout",
          "text": [
            "Cantidad de words distintas en el corpus: 19377\n"
          ]
        }
      ],
      "source": [
        "# Cantidad de words encontradas en el corpus\n",
        "print(\"Cantidad de words distintas en el corpus:\", len(w2v_model.wv.index_to_key))"
      ]
    },
    {
      "cell_type": "code",
      "source": [
        "from collections import Counter\n",
        "import matplotlib.pyplot as plt\n",
        "\n",
        "flat_tokens = [token for sentence in reduced_tokens for token in sentence]\n",
        "top_words = Counter(flat_tokens).most_common(15)\n",
        "\n",
        "words, counts = zip(*top_words)\n",
        "plt.figure(figsize=(10,5))\n",
        "sns.barplot(x=list(words), y=list(counts))\n",
        "plt.title(\"Palabras más frecuentes en el corpus\")\n",
        "plt.xticks(rotation=45)\n",
        "plt.show()"
      ],
      "metadata": {
        "colab": {
          "base_uri": "https://localhost:8080/",
          "height": 484
        },
        "id": "108FnNHRIWXI",
        "outputId": "b763b6e4-a92a-4738-9898-65420ddeadb8"
      },
      "execution_count": null,
      "outputs": [
        {
          "output_type": "display_data",
          "data": {
            "text/plain": [
              "<Figure size 1000x500 with 1 Axes>"
            ],
            "image/png": "[encoded data removed]"
          },
          "metadata": {}
        }
      ]
    },
    {
      "cell_type": "markdown",
      "metadata": {
        "id": "fC9mZ8DPk-UC"
      },
      "source": [
        "### 3 - Entrenar embeddings"
      ]
    },
    {
      "cell_type": "code",
      "execution_count": null,
      "metadata": {
        "id": "QSp-x0PAsq56",
        "colab": {
          "base_uri": "https://localhost:8080/"
        },
        "outputId": "4ceb153a-77c3-4e77-d48e-1498929803a9"
      },
      "outputs": [
        {
          "output_type": "stream",
          "name": "stdout",
          "text": [
            "Loss after epoch 0: 17167474.0\n",
            "Loss after epoch 1: 13937672.0\n",
            "Loss after epoch 2: 13298002.0\n",
            "Loss after epoch 3: 12348084.0\n",
            "Loss after epoch 4: 10735920.0\n",
            "Loss after epoch 5: 2598144.0\n",
            "Loss after epoch 6: 2546136.0\n",
            "Loss after epoch 7: 2481488.0\n",
            "Loss after epoch 8: 2419752.0\n",
            "Loss after epoch 9: 2347160.0\n",
            "Loss after epoch 10: 2283064.0\n",
            "Loss after epoch 11: 2205264.0\n",
            "Loss after epoch 12: 2143696.0\n",
            "Loss after epoch 13: 2063264.0\n",
            "Loss after epoch 14: 1986552.0\n",
            "Loss after epoch 15: 1913672.0\n",
            "Loss after epoch 16: 1827544.0\n",
            "Loss after epoch 17: 1762944.0\n",
            "Loss after epoch 18: 1701880.0\n",
            "Loss after epoch 19: 1672816.0\n"
          ]
        },
        {
          "output_type": "execute_result",
          "data": {
            "text/plain": [
              "(47161502, 60882320)"
            ]
          },
          "metadata": {},
          "execution_count": 16
        }
      ],
      "source": [
        "# Entrenamos el modelo generador de vectores\n",
        "# Utilizamos nuestro callback\n",
        "\n",
        "w2v_model.train(reduced_tokens,\n",
        "                 total_examples=w2v_model.corpus_count,\n",
        "                 epochs=20,\n",
        "                 compute_loss = True,\n",
        "                 callbacks=[callback()]\n",
        "                 )"
      ]
    },
    {
      "cell_type": "markdown",
      "metadata": {
        "id": "ddT9NVuNlCAe"
      },
      "source": [
        "### 4 - Ensayar"
      ]
    },
    {
      "cell_type": "code",
      "source": [
        "reduced_tokens[5]"
      ],
      "metadata": {
        "id": "OivzYTgfOyV8",
        "colab": {
          "base_uri": "https://localhost:8080/"
        },
        "outputId": "758b72ca-33f8-4a7f-86cd-003ecf3574aa"
      },
      "execution_count": null,
      "outputs": [
        {
          "output_type": "execute_result",
          "data": {
            "text/plain": [
              "['posso',\n",
              " 'te',\n",
              " 'falar',\n",
              " 'dos',\n",
              " 'sonhos',\n",
              " 'das',\n",
              " 'flores',\n",
              " 'de',\n",
              " 'como',\n",
              " 'a',\n",
              " 'cidade',\n",
              " 'mudou',\n",
              " 'posso',\n",
              " 'te',\n",
              " 'falar',\n",
              " 'do',\n",
              " 'medo',\n",
              " 'do',\n",
              " 'meu',\n",
              " 'desejo',\n",
              " 'do',\n",
              " 'meu',\n",
              " 'amor',\n",
              " 'posso',\n",
              " 'falar',\n",
              " 'da',\n",
              " 'tarde',\n",
              " 'que',\n",
              " 'cai',\n",
              " 'e',\n",
              " 'aos',\n",
              " 'poucos',\n",
              " 'deixa',\n",
              " 'ver',\n",
              " 'no',\n",
              " 'céu',\n",
              " 'a',\n",
              " 'lua',\n",
              " 'que',\n",
              " 'um',\n",
              " 'dia',\n",
              " 'eu',\n",
              " 'te',\n",
              " 'dei',\n",
              " 'gosto',\n",
              " 'de',\n",
              " 'fechar',\n",
              " 'os',\n",
              " 'olhos',\n",
              " 'fugir',\n",
              " 'do',\n",
              " 'tempo',\n",
              " 'de',\n",
              " 'me',\n",
              " 'perder',\n",
              " 'posso',\n",
              " 'até',\n",
              " 'perder',\n",
              " 'a',\n",
              " 'hora',\n",
              " 'mas',\n",
              " 'sei',\n",
              " 'que',\n",
              " 'já',\n",
              " 'passou',\n",
              " 'das',\n",
              " 'seis',\n",
              " 'sei',\n",
              " 'que',\n",
              " 'não',\n",
              " 'há',\n",
              " 'no',\n",
              " 'mundo',\n",
              " 'quem',\n",
              " 'possa',\n",
              " 'te',\n",
              " 'dizer',\n",
              " 'que',\n",
              " 'não',\n",
              " 'é',\n",
              " 'tua',\n",
              " 'a',\n",
              " 'lua',\n",
              " 'que',\n",
              " 'eu',\n",
              " 'te',\n",
              " 'dei',\n",
              " 'pra',\n",
              " 'brilhar',\n",
              " 'por',\n",
              " 'onde',\n",
              " 'você',\n",
              " 'for',\n",
              " 'me',\n",
              " 'queira',\n",
              " 'bem',\n",
              " 'durma',\n",
              " 'bem',\n",
              " 'meu',\n",
              " 'amor',\n",
              " 'lalaralarara',\n",
              " 'ohhhhhhh',\n",
              " 'eu',\n",
              " 'posso',\n",
              " 'falar',\n",
              " 'da',\n",
              " 'tarde',\n",
              " 'que',\n",
              " 'cai',\n",
              " 'e',\n",
              " 'aos',\n",
              " 'poucos',\n",
              " 'deixa',\n",
              " 'ver',\n",
              " 'no',\n",
              " 'céu',\n",
              " 'a',\n",
              " 'lua',\n",
              " 'que',\n",
              " 'um',\n",
              " 'dia',\n",
              " 'eu',\n",
              " 'te',\n",
              " 'dei',\n",
              " 'pra',\n",
              " 'brilhar',\n",
              " 'por',\n",
              " 'onde',\n",
              " 'você',\n",
              " 'for',\n",
              " 'me',\n",
              " 'queira',\n",
              " 'bem',\n",
              " 'durma',\n",
              " 'bem',\n",
              " 'meu',\n",
              " 'amor',\n",
              " 'durma',\n",
              " 'bem',\n",
              " 'me',\n",
              " 'queira',\n",
              " 'bem',\n",
              " 'meu',\n",
              " 'amor',\n",
              " 'a',\n",
              " 'lua',\n",
              " 'que',\n",
              " 'eu',\n",
              " 'te',\n",
              " 'dei',\n",
              " 'a',\n",
              " 'lua',\n",
              " 'que',\n",
              " 'eu',\n",
              " 'te',\n",
              " 'dei']"
            ]
          },
          "metadata": {},
          "execution_count": 17
        }
      ]
    },
    {
      "cell_type": "code",
      "execution_count": null,
      "metadata": {
        "id": "6cHN9xGLuPEm",
        "colab": {
          "base_uri": "https://localhost:8080/"
        },
        "outputId": "a686c01b-ffb8-4180-f6e4-041f59234369"
      },
      "outputs": [
        {
          "output_type": "execute_result",
          "data": {
            "text/plain": [
              "[('delas', 0.5710879564285278),\n",
              " ('outono', 0.5571328997612),\n",
              " ('sétimo', 0.5563425421714783),\n",
              " ('nascer', 0.5476990938186646),\n",
              " ('dourar', 0.5302286744117737),\n",
              " ('cabeleira', 0.5294758081436157),\n",
              " ('crescer', 0.5287036895751953),\n",
              " ('advinha', 0.5279120802879333),\n",
              " ('violao', 0.5210388898849487),\n",
              " ('nado', 0.518974781036377)]"
            ]
          },
          "metadata": {},
          "execution_count": 18
        }
      ],
      "source": [
        "# Palabras que MÁS se relacionan con...:\n",
        "w2v_model.wv.most_similar(positive=[\"brilhar\"], topn=10)"
      ]
    },
    {
      "cell_type": "markdown",
      "source": [
        "Se observó que palabras como brilhar están asociadas a otras con carga poética como outono, nascer, o crescer."
      ],
      "metadata": {
        "id": "Kykj7c1xH5aT"
      }
    },
    {
      "cell_type": "code",
      "source": [],
      "metadata": {
        "id": "yVMvC0C2H5Jf"
      },
      "execution_count": null,
      "outputs": []
    },
    {
      "cell_type": "code",
      "execution_count": null,
      "metadata": {
        "id": "47HiU5gdkdMq",
        "colab": {
          "base_uri": "https://localhost:8080/"
        },
        "outputId": "71d5b3ff-3c9c-4e55-fa8b-b8819a72911f"
      },
      "outputs": [
        {
          "output_type": "execute_result",
          "data": {
            "text/plain": [
              "[(\"grindin'\", 0.04715966805815697),\n",
              " ('rushing', 0.03870263695716858),\n",
              " ('knowing', 0.03588823229074478),\n",
              " ('letting', 0.030991163104772568),\n",
              " ('tryna', 0.02719782665371895),\n",
              " ('screaming', 0.024834372103214264),\n",
              " ('going', 0.018844489008188248),\n",
              " ('able', 0.016471795737743378),\n",
              " ('hella', 0.015232964418828487),\n",
              " (\"trippin'\", 0.012079975567758083)]"
            ]
          },
          "metadata": {},
          "execution_count": 19
        }
      ],
      "source": [
        "# Palabras que MENOS se relacionan con...:\n",
        "w2v_model.wv.most_similar(negative=[\"nascer\"], topn=10)"
      ]
    },
    {
      "cell_type": "code",
      "execution_count": null,
      "metadata": {
        "id": "DT4Rvno2mD65",
        "colab": {
          "base_uri": "https://localhost:8080/"
        },
        "outputId": "41f2215a-16f1-4b40-ab70-53cb3635064f"
      },
      "outputs": [
        {
          "output_type": "execute_result",
          "data": {
            "text/plain": [
              "[('vitrola', 0.6720453500747681),\n",
              " ('referência', 0.6707490086555481),\n",
              " ('sobrar', 0.6690906286239624),\n",
              " ('bôca', 0.6632034778594971),\n",
              " ('césar', 0.6627281904220581),\n",
              " ('joelhos', 0.6626997590065002),\n",
              " ('capeta', 0.6537484526634216),\n",
              " ('sacada', 0.6516606211662292),\n",
              " ('cela', 0.6505180597305298),\n",
              " ('ancorou', 0.6492164731025696)]"
            ]
          },
          "metadata": {},
          "execution_count": 20
        }
      ],
      "source": [
        "# Palabras que MÁS se relacionan con...:\n",
        "w2v_model.wv.most_similar(positive=[\"plantação\"], topn=10)"
      ]
    },
    {
      "cell_type": "markdown",
      "source": [
        "Estas palabras tienen cierta carga poética o están relacionadas con lo emocional, lo que es típico del estilo lírico. Muchas de ellas parecen nombres inventados o onomatopeyas, comunes en canciones."
      ],
      "metadata": {
        "id": "Sjy0igdoH1Wy"
      }
    },
    {
      "cell_type": "code",
      "execution_count": null,
      "metadata": {
        "id": "XPLDPgzBmQXt",
        "colab": {
          "base_uri": "https://localhost:8080/"
        },
        "outputId": "528c52ad-5823-4c7b-f5e2-dd748214c5bc"
      },
      "outputs": [
        {
          "output_type": "execute_result",
          "data": {
            "text/plain": [
              "[('avisei', 0.5178312659263611),\n",
              " ('comparar', 0.5110543370246887),\n",
              " ('humilhar', 0.5091039538383484),\n",
              " ('participar', 0.5076877474784851),\n",
              " ('cacau', 0.5066238045692444)]"
            ]
          },
          "metadata": {},
          "execution_count": 21
        }
      ],
      "source": [
        "# Palabras que MÁS se relacionan con...:\n",
        "w2v_model.wv.most_similar(positive=[\"falar\"], topn=5)"
      ]
    },
    {
      "cell_type": "markdown",
      "source": [
        "Palabras como “falar” están relacionadas con verbos de comunicación como “avisei”, comparar, lo cual valida que el modelo capturó relaciones funcionales coherentes."
      ],
      "metadata": {
        "id": "9MQOrCLYH5JH"
      }
    },
    {
      "cell_type": "code",
      "execution_count": null,
      "metadata": {
        "id": "L_UvHPMMklOr",
        "colab": {
          "base_uri": "https://localhost:8080/",
          "height": 304
        },
        "outputId": "f1305890-f7fd-471c-c0ee-3695a41b9490"
      },
      "outputs": [
        {
          "output_type": "error",
          "ename": "KeyError",
          "evalue": "\"Key 'diedaa' not present in vocabulary\"",
          "traceback": [
            "\u001b[0;31m---------------------------------------------------------------------------\u001b[0m",
            "\u001b[0;31mKeyError\u001b[0m                                  Traceback (most recent call last)",
            "\u001b[0;32m<ipython-input-22-93d902aa5dab>\u001b[0m in \u001b[0;36m<cell line: 0>\u001b[0;34m()\u001b[0m\n\u001b[1;32m      1\u001b[0m \u001b[0;31m# Ensayar con una palabra que no está en el vocabulario:\u001b[0m\u001b[0;34m\u001b[0m\u001b[0;34m\u001b[0m\u001b[0m\n\u001b[0;32m----> 2\u001b[0;31m \u001b[0mw2v_model\u001b[0m\u001b[0;34m.\u001b[0m\u001b[0mwv\u001b[0m\u001b[0;34m.\u001b[0m\u001b[0mmost_similar\u001b[0m\u001b[0;34m(\u001b[0m\u001b[0mnegative\u001b[0m\u001b[0;34m=\u001b[0m\u001b[0;34m[\u001b[0m\u001b[0;34m\"diedaa\"\u001b[0m\u001b[0;34m]\u001b[0m\u001b[0;34m)\u001b[0m\u001b[0;34m\u001b[0m\u001b[0;34m\u001b[0m\u001b[0m\n\u001b[0m",
            "\u001b[0;32m/usr/local/lib/python3.11/dist-packages/gensim/models/keyedvectors.py\u001b[0m in \u001b[0;36mmost_similar\u001b[0;34m(self, positive, negative, topn, clip_start, clip_end, restrict_vocab, indexer)\u001b[0m\n\u001b[1;32m    839\u001b[0m \u001b[0;34m\u001b[0m\u001b[0m\n\u001b[1;32m    840\u001b[0m         \u001b[0;31m# compute the weighted average of all keys\u001b[0m\u001b[0;34m\u001b[0m\u001b[0;34m\u001b[0m\u001b[0m\n\u001b[0;32m--> 841\u001b[0;31m         \u001b[0mmean\u001b[0m \u001b[0;34m=\u001b[0m \u001b[0mself\u001b[0m\u001b[0;34m.\u001b[0m\u001b[0mget_mean_vector\u001b[0m\u001b[0;34m(\u001b[0m\u001b[0mkeys\u001b[0m\u001b[0;34m,\u001b[0m \u001b[0mweight\u001b[0m\u001b[0;34m,\u001b[0m \u001b[0mpre_normalize\u001b[0m\u001b[0;34m=\u001b[0m\u001b[0;32mTrue\u001b[0m\u001b[0;34m,\u001b[0m \u001b[0mpost_normalize\u001b[0m\u001b[0;34m=\u001b[0m\u001b[0;32mTrue\u001b[0m\u001b[0;34m,\u001b[0m \u001b[0mignore_missing\u001b[0m\u001b[0;34m=\u001b[0m\u001b[0;32mFalse\u001b[0m\u001b[0;34m)\u001b[0m\u001b[0;34m\u001b[0m\u001b[0;34m\u001b[0m\u001b[0m\n\u001b[0m\u001b[1;32m    842\u001b[0m         all_keys = [\n\u001b[1;32m    843\u001b[0m             \u001b[0mself\u001b[0m\u001b[0;34m.\u001b[0m\u001b[0mget_index\u001b[0m\u001b[0;34m(\u001b[0m\u001b[0mkey\u001b[0m\u001b[0;34m)\u001b[0m \u001b[0;32mfor\u001b[0m \u001b[0mkey\u001b[0m \u001b[0;32min\u001b[0m \u001b[0mkeys\u001b[0m \u001b[0;32mif\u001b[0m \u001b[0misinstance\u001b[0m\u001b[0;34m(\u001b[0m\u001b[0mkey\u001b[0m\u001b[0;34m,\u001b[0m \u001b[0m_KEY_TYPES\u001b[0m\u001b[0;34m)\u001b[0m \u001b[0;32mand\u001b[0m \u001b[0mself\u001b[0m\u001b[0;34m.\u001b[0m\u001b[0mhas_index_for\u001b[0m\u001b[0;34m(\u001b[0m\u001b[0mkey\u001b[0m\u001b[0;34m)\u001b[0m\u001b[0;34m\u001b[0m\u001b[0;34m\u001b[0m\u001b[0m\n",
            "\u001b[0;32m/usr/local/lib/python3.11/dist-packages/gensim/models/keyedvectors.py\u001b[0m in \u001b[0;36mget_mean_vector\u001b[0;34m(self, keys, weights, pre_normalize, post_normalize, ignore_missing)\u001b[0m\n\u001b[1;32m    516\u001b[0m                 \u001b[0mtotal_weight\u001b[0m \u001b[0;34m+=\u001b[0m \u001b[0mabs\u001b[0m\u001b[0;34m(\u001b[0m\u001b[0mweights\u001b[0m\u001b[0;34m[\u001b[0m\u001b[0midx\u001b[0m\u001b[0;34m]\u001b[0m\u001b[0;34m)\u001b[0m\u001b[0;34m\u001b[0m\u001b[0;34m\u001b[0m\u001b[0m\n\u001b[1;32m    517\u001b[0m             \u001b[0;32melif\u001b[0m \u001b[0;32mnot\u001b[0m \u001b[0mignore_missing\u001b[0m\u001b[0;34m:\u001b[0m\u001b[0;34m\u001b[0m\u001b[0;34m\u001b[0m\u001b[0m\n\u001b[0;32m--> 518\u001b[0;31m                 \u001b[0;32mraise\u001b[0m \u001b[0mKeyError\u001b[0m\u001b[0;34m(\u001b[0m\u001b[0;34mf\"Key '{key}' not present in vocabulary\"\u001b[0m\u001b[0;34m)\u001b[0m\u001b[0;34m\u001b[0m\u001b[0;34m\u001b[0m\u001b[0m\n\u001b[0m\u001b[1;32m    519\u001b[0m \u001b[0;34m\u001b[0m\u001b[0m\n\u001b[1;32m    520\u001b[0m         \u001b[0;32mif\u001b[0m \u001b[0mtotal_weight\u001b[0m \u001b[0;34m>\u001b[0m \u001b[0;36m0\u001b[0m\u001b[0;34m:\u001b[0m\u001b[0;34m\u001b[0m\u001b[0;34m\u001b[0m\u001b[0m\n",
            "\u001b[0;31mKeyError\u001b[0m: \"Key 'diedaa' not present in vocabulary\""
          ]
        }
      ],
      "source": [
        "# Ensayar con una palabra que no está en el vocabulario:\n",
        "w2v_model.wv.most_similar(negative=[\"diedaa\"])"
      ]
    },
    {
      "cell_type": "code",
      "source": [
        "import plotly.express as px\n",
        "import numpy as np\n",
        "from sklearn.manifold import TSNE\n",
        "# Palabra de referencia\n",
        "ref_word = \"amor\"\n",
        "ref_vector = w2v_model.wv.get_vector(ref_word)\n",
        "\n",
        "# Calcular similitud con todas las palabras\n",
        "similarities = np.dot(w2v_model.wv.vectors, ref_vector)\n",
        "vecs = TSNE(n_components=2, random_state=0).fit_transform(w2v_model.wv.vectors)\n",
        "labels = np.asarray(w2v_model.wv.index_to_key)\n",
        "\n",
        "df_vis = pd.DataFrame({\n",
        "    \"x\": vecs[:, 0],\n",
        "    \"y\": vecs[:, 1],\n",
        "    \"word\": labels,\n",
        "    \"similarity\": similarities\n",
        "})\n",
        "\n",
        "fig = px.scatter(df_vis.head(300), x=\"x\", y=\"y\", text=\"word\", color=\"similarity\",\n",
        "                 color_continuous_scale='Viridis', title=f\"Palabras relacionadas con '{ref_word}'\")\n",
        "fig.update_traces(marker_size=6)\n",
        "fig.show()"
      ],
      "metadata": {
        "colab": {
          "base_uri": "https://localhost:8080/",
          "height": 542
        },
        "id": "eZl4lDjvIEe_",
        "outputId": "7d2d8fee-3ee4-4c48-f996-1255faaa2759"
      },
      "execution_count": null,
      "outputs": [
        {
          "output_type": "display_data",
          "data": {
            "text/html": [
              "<html>\n",
              "<head><meta charset=\"utf-8\" /></head>\n",
              "<body>\n",
              "    <div>            <script src=\"https://cdnjs.cloudflare.com/ajax/libs/mathjax/2.7.5/MathJax.js?config=TeX-AMS-MML_SVG\"></script><script type=\"text/javascript\">if (window.MathJax && window.MathJax.Hub && window.MathJax.Hub.Config) {window.MathJax.Hub.Config({SVG: {font: \"STIX-Web\"}});}</script>                <script type=\"text/javascript\">window.PlotlyConfig = {MathJaxConfig: 'local'};</script>\n",
              "        <script charset=\"utf-8\" src=\"https://cdn.plot.ly/plotly-2.35.2.min.js\"></script>                <div id=\"dd0aab0b-6405-4328-99a7-374d49391001\" class=\"plotly-graph-div\" style=\"height:525px; width:100%;\"></div>            <script type=\"text/javascript\">                                    window.PLOTLYENV=window.PLOTLYENV || {};                                    if (document.getElementById(\"dd0aab0b-6405-4328-99a7-374d49391001\")) {                    Plotly.newPlot(                        \"dd0aab0b-6405-4328-99a7-374d49391001\",                        [{\"hovertemplate\":\"x=%{x}\\u003cbr\\u003ey=%{y}\\u003cbr\\u003eword=%{text}\\u003cbr\\u003esimilarity=%{marker.color}\\u003cextra\\u003e\\u003c\\u002fextra\\u003e\",\"legendgroup\":\"\",\"marker\":{\"color\":[2.4995735,2.5344958,2.1569996,2.625374,3.538395,0.6753187,1.9944638,1.6209824,2.193183,1.2404623,2.388375,1.3893149,2.4593058,2.8494008,5.6962223,2.6072998,7.315423,2.6034217,1.3959632,2.632615,1.4679211,6.687553,6.1196446,7.5229955,1.255189,2.227311,2.3429697,3.5290813,1.6527267,1.8504096,1.8064721,1.9309387,3.9952176,4.270996,1.9647757,1.7176405,6.2544117,2.639127,4.0966854,1.646769,2.8882487,3.5612714,7.444824,2.7734125,2.888988,2.8417504,4.5586705,1.5176333,8.170893,1.9300069,3.3539858,1.3354384,7.8100543,1.9467402,6.144391,2.6349854,2.8643737,2.0073833,2.7039707,2.8283997,3.4552345,3.1049752,8.948442,1.9080057,2.096148,2.1422315,7.6602116,22.32904,2.5470507,9.156511,1.9628286,2.0326207,4.240501,2.2947938,6.2975764,2.931057,2.6458755,3.8253093,7.5955505,1.7822114,2.7682066,1.8016893,4.31398,1.9879344,2.2907047,2.2278945,0.8664263,8.392854,2.5047479,2.1180634,2.6726046,2.3004549,3.9009578,2.0321856,1.4692669,3.0842495,1.9233478,7.963501,2.8164082,2.7744708,3.3266256,2.8346648,2.4639266,7.470438,2.6103573,3.6200995,3.028108,4.304926,8.494389,3.0864515,4.2320457,2.696897,2.3210895,1.7010823,2.7632005,3.1708336,3.8870997,6.245141,2.525889,0.014716923,2.400289,1.2482678,8.274578,1.7792647,1.908775,2.293054,3.7226481,9.254951,6.995921,1.7225044,1.9893559,3.5841532,2.0073032,1.4884084,7.0075154,2.660337,5.440657,1.4354262,7.0424294,1.1485336,3.4146595,2.86095,2.7588496,3.1204789,2.8300016,2.432245,3.2848027,1.9509064,3.8443036,2.76123,2.1692014,3.59708,8.958231,2.042301,3.6263862,2.514556,3.042211,9.672361,2.0399852,6.8638873,3.1291854,2.8025305,8.900974,5.163761,8.073677,0.26407447,1.408592,7.3050766,2.93028,1.1280298,3.7346587,3.0512073,2.9055636,9.000632,4.5599236,3.1894743,8.079828,9.620224,3.6095672,4.2626543,8.878822,1.5858757,2.09685,3.5129485,3.631889,8.42426,3.9042382,1.228532,2.4665818,1.8102359,3.7684705,7.2044487,3.761277,3.2069979,9.028829,1.8548653,9.2216835,9.04306,8.761927,3.5873642,2.8292634,3.5134604,3.0821073,7.964823,4.598152,2.2842226,9.266165,3.7751243,2.8656356,9.410694,8.675445,9.27136,9.731402,4.897044,2.6579165,0.979707,3.5019526,9.286758,3.6059759,2.7533844,4.275812,2.197009,2.4771872,2.161438,2.7555597,1.0043793,2.4239445,1.9153655,8.697752,1.2117492,2.8116484,2.1743197,2.8033426,9.284328,2.6413968,2.6488974,2.1375744,1.8158603,2.5963645,4.155803,-0.024482012,7.885199,8.659762,3.7960875,2.6927762,2.1540272,2.7567472,1.6318802,4.2395763,2.7071078,7.7458763,2.571654,2.9631443,2.5124125,2.0119717,3.4321423,3.3278356,4.2516174,5.631315,2.5156884,1.8983586,8.490638,3.8535433,1.902958,4.393051,1.906646,0.6831,2.7062554,8.231868,0.8730447,0.2575361,2.915332,4.412968,2.463999,2.0775707,8.720028,5.71027,3.9194407,2.897135,2.4692073,3.4476552,11.006263,4.0808945,6.859449,7.825453,3.724606,8.975477,8.583817,8.764761,2.2408352,9.831566,3.5248036,0.5778968,3.2080917,3.1443102,4.414337,3.1452742,8.223695,8.373971,3.2173765],\"coloraxis\":\"coloraxis\",\"symbol\":\"circle\",\"size\":6},\"mode\":\"markers+text\",\"name\":\"\",\"orientation\":\"v\",\"showlegend\":false,\"text\":[\"i\",\"you\",\"the\",\"a\",\"me\",\"to\",\"and\",\"it\",\"my\",\"in\",\"on\",\"i'm\",\"that\",\"no\",\"o\",\"your\",\"que\",\"do\",\"we\",\"like\",\"up\",\"de\",\"e\",\"eu\",\"be\",\"don't\",\"for\",\"know\",\"all\",\"of\",\"get\",\"so\",\"got\",\"love\",\"is\",\"with\",\"é\",\"this\",\"oh\",\"but\",\"just\",\"what\",\"não\",\"yeah\",\"when\",\"it's\",\"baby\",\"now\",\"você\",\"they\",\"can\",\"if\",\"pra\",\"out\",\"na\",\"go\",\"she\",\"ain't\",\"girl\",\"see\",\"wanna\",\"down\",\"te\",\"make\",\"nigga\",\"let\",\"se\",\"amor\",\"one\",\"meu\",\"come\",\"back\",\"want\",\"say\",\"um\",\"time\",\"can't\",\"ya\",\"vai\",\"her\",\"right\",\"at\",\"da\",\"was\",\"cause\",\"you're\",\"take\",\"vou\",\"how\",\"never\",\"way\",\"from\",\"em\",\"shit\",\"not\",\"he\",\"have\",\"com\",\"need\",\"that's\",\"as\",\"tell\",\"man\",\"vem\",\"chorus\",\"life\",\"here\",\"feel\",\"quero\",\"about\",\"give\",\"them\",\"niggas\",\"are\",\"put\",\"why\",\"keep\",\"la\",\"i'll\",\"fuck\",\"some\",\"bitch\",\"seu\",\"more\",\"off\",\"gotta\",\"gonna\",\"mais\",\"só\",\"then\",\"money\",\"will\",\"there\",\"been\",\"tá\",\"where\",\"night\",\"or\",\"tem\",\"good\",\"too\",\"look\",\"think\",\"could\",\"still\",\"these\",\"by\",\"who\",\"hey\",\"us\",\"said\",\"ooh\",\"por\",\"day\",\"stop\",\"around\",\"world\",\"ô\",\"over\",\"sou\",\"only\",\"had\",\"lá\",\"yo\",\"uma\",\"better\",\"through\",\"ela\",\"let's\",\"away\",\"uh\",\"call\",\"real\",\"minha\",\"g\",\"show\",\"ver\",\"coração\",\"ass\",\"body\",\"tudo\",\"'cause\",\"even\",\"every\",\"boy\",\"sem\",\"really\",\"little\",\"bad\",\"new\",\"heart\",\"quem\",\"verse\",\"turn\",\"ai\",\"would\",\"mas\",\"gente\",\"bem\",\"hard\",\"tonight\",\"won't\",\"mind\",\"quando\",\"am\",\"'em\",\"mundo\",\"hit\",\"work\",\"mim\",\"todo\",\"já\",\"vida\",\"ah\",\"big\",\"than\",\"thing\",\"como\",\"his\",\"gon'\",\"ever\",\"him\",\"hold\",\"stay\",\"did\",\"run\",\"leave\",\"game\",\"faz\",\"i've\",\"play\",\"dogg\",\"long\",\"para\",\"try\",\"our\",\"bitches\",\"niggaz\",\"again\",\"rock\",\"always\",\"ser\",\"quer\",\"hear\",\"things\",\"snoop\",\"50\",\"head\",\"eyes\",\"much\",\"tô\",\"gone\",\"home\",\"nothing\",\"beat\",\"everything\",\"high\",\"live\",\"dance\",\"2\",\"crazy\",\"ê\",\"god\",\"we're\",\"something\",\"before\",\"cuz\",\"die\",\"essa\",\"made\",\"watch\",\"there's\",\"name\",\"should\",\"find\",\"sei\",\"2x\",\"ride\",\"mine\",\"talk\",\"an\",\"amar\",\"u\",\"hands\",\"pode\",\"damn\",\"assim\",\"esse\",\"foi\",\"top\",\"teu\",\"done\",\"same\",\"girls\",\"i'ma\",\"move\",\"two\",\"dia\",\"agora\",\"young\"],\"x\":[-22.36878,-22.292469,3.3870587,-4.1435027,-22.325893,-18.797995,2.9292367,-22.194857,20.329565,15.171571,8.372205,-7.863915,-21.77473,-29.516033,13.022949,20.397133,-18.460405,-25.818264,-22.378792,-8.488889,-14.757537,34.59448,12.630127,-8.968214,-28.477203,-23.871353,-14.083739,-19.24551,-7.8780165,2.967624,-18.540018,-23.235237,3.5214624,-23.023146,-9.427533,23.909405,2.3088422,-18.68844,-18.54175,-32.820286,-21.974161,-23.26702,5.316264,-12.234205,-12.932046,24.458294,-21.870478,-13.687347,-8.767653,-22.414413,-21.47222,-27.02266,2.9816723,5.44637,17.816595,-17.751108,-22.298956,-34.519615,-21.656015,-22.338219,-22.513695,-13.641768,-30.108328,-18.723545,-36.010845,-25.110626,-3.5148773,-16.444235,-13.908728,10.521047,-21.86652,-25.596867,-25.183537,-21.20838,-1.5320295,-13.640263,-25.576252,-15.113605,-0.77407575,-10.452862,-17.611767,1.4995452,23.103573,-10.530669,-11.995816,-27.7624,-18.953354,-11.099898,-18.61031,-28.67622,-12.10349,15.031423,-22.651842,-3.9229176,-23.324572,-22.583158,-19.81267,11.621645,-19.677889,-24.259119,36.426884,-23.941614,-11.724788,-1.4754127,-7.245969,-2.6847708,4.734738,-21.125515,-12.884642,-23.742676,-21.697943,2.685733,0.61118495,-8.250682,-14.895363,-21.070766,-12.341425,-21.950258,-32.24043,-24.228611,-28.45415,-2.8451838,-19.122448,-0.83081096,8.2632265,-18.593512,-20.977186,1.9105345,5.9422245,-9.2289095,-2.7699254,-30.076721,-24.420275,-14.049655,-3.7958045,19.594656,-3.6605406,-38.17957,7.6592436,-22.512217,-40.072556,5.2961082,-23.887745,-21.28948,-20.041113,-2.1521852,20.905796,-31.019772,-11.674847,-17.998787,-22.425898,-15.851899,-11.615028,-1.2717364,-29.096434,-32.84979,-11.552282,22.104977,30.342272,8.780447,-8.593787,-26.639376,16.773579,-28.232634,15.5474205,-30.095331,1.3073405,9.624364,-18.662048,-12.882293,-9.04148,-38.500183,-12.726673,20.871616,5.286721,-24.093473,-1.8859876,6.866471,6.892214,-11.6813545,0.13177815,-28.651436,-26.082094,-25.450687,-17.482195,-0.028617574,-24.061977,-3.8913488,-25.35886,20.417187,-20.949377,-2.0375965,-3.49238,-20.710905,-8.062309,-27.042263,-2.4183369,6.886108,10.63154,-16.523367,-17.51004,-26.435286,-7.3080373,3.0272584,-26.255953,12.232461,-1.5584946,4.0292697,-14.900856,-11.672613,-15.112835,-3.0478926,19.94107,-17.865717,14.9314575,-2.8210974,-15.441108,-31.794762,20.364088,-20.673134,-27.100767,-22.120663,-30.002129,-20.122076,-24.320818,-14.272237,-28.39461,-3.8337412,34.462284,-16.30595,-23.72895,-8.333147,-15.829314,-12.917573,-27.049494,-15.214688,0.8974048,0.21971008,-25.272818,-11.095436,-8.6166,6.6857724,4.9754295,-12.738811,-11.732933,-8.322735,0.8051161,6.1461506,1.7798448,-24.836718,-8.624807,-20.35214,-29.995237,-18.842865,-5.9694,-19.72376,-5.0033107,-17.322329,-24.268631,-2.2760518,-39.674046,19.903173,-24.330587,-27.468542,-19.127964,-29.54381,-32.854218,-38.260693,11.506194,-5.7145357,-6.884761,-17.440723,-26.501408,-27.61061,-33.48437,-4.825628,-4.6253114,-40.81511,-24.037907,-19.531384,7.5781026,-5.7488317,-23.548378,22.934792,-3.8449185,-10.139143,5.2337856,-6.550705,-7.358404,-38.2144,10.5876665,-10.374172,-12.626541,-14.250585,-16.994244,-15.855175,20.798975,-1.1412463,-5.911522,-1.3489097],\"xaxis\":\"x\",\"y\":[16.58538,16.610952,27.216276,21.560936,16.538248,24.757294,21.312447,16.482002,48.767353,38.144367,29.164604,14.183356,16.316475,18.437754,-23.079824,48.82646,-32.274387,19.692543,16.523718,12.038378,12.679771,-22.99801,-28.801102,-55.62282,29.940573,15.570442,22.605127,24.000378,25.102007,39.857075,11.73176,30.127556,19.438644,39.37317,5.8458395,43.019917,-45.716557,17.193005,1.8894538,17.708426,17.549582,20.076107,-51.15448,-2.7651863,11.183318,13.838011,13.101791,24.400732,-46.89036,16.596718,15.359503,19.075794,-53.838966,26.569002,-29.307276,8.594922,16.508566,30.315355,13.648056,21.471767,14.731326,12.439225,-28.977879,7.261153,9.705526,14.871709,-42.070488,-29.839302,35.58832,-49.28781,12.106764,4.3294215,18.389702,24.17112,-33.83251,41.590168,16.830832,10.179009,-21.343489,18.541346,11.289674,6.2604623,-29.961292,18.787281,25.305044,25.720407,11.641634,-34.18821,19.52157,23.466232,49.508724,8.8436365,2.4482772,23.33973,30.258375,16.594534,20.976746,-30.460918,20.625715,21.309452,22.7794,25.695631,22.343187,-17.50204,-0.64614576,37.917126,27.315222,44.137566,-39.976974,25.141676,19.686472,34.535694,31.37608,44.38571,11.513702,25.475042,9.83512,-22.387033,14.797211,20.632076,-2.745538,11.183031,-43.20903,13.08196,28.794437,21.236586,21.743128,-63.106056,-54.592567,14.255128,8.922054,34.11364,31.665539,53.06597,-19.39678,8.039856,7.4889364,16.213974,-52.711926,29.135538,18.316523,10.559774,24.693758,15.695217,29.517656,31.258747,-7.538733,34.946846,-13.115944,36.238255,21.617558,2.8422062,-31.81617,23.90913,16.65904,7.4068623,32.696365,-14.493553,16.18706,-41.016624,17.32367,42.52208,-26.441145,-22.307941,-39.962242,34.35329,53.412952,-20.883512,12.93462,50.175014,-15.674555,9.961331,27.25283,-42.05684,-1.7546335,19.088516,-59.51197,-38.110085,9.622461,9.917272,-41.54508,19.97521,23.892035,47.250355,13.104953,-64.04362,19.156988,13.62945,8.5475235,14.288922,50.70685,-42.80293,-4.1342883,11.978078,-31.871172,19.193188,-49.14814,-52.009502,-48.662823,21.538483,16.425919,16.297771,38.40092,-52.99105,34.467964,14.59293,-24.576591,22.20294,11.845799,-49.31161,-26.499872,-44.980576,-41.607212,-8.345943,17.624996,15.687603,25.16182,-13.77263,48.79338,22.277212,20.699474,16.583843,16.533176,19.85883,21.047499,3.6540048,24.29473,23.298857,-28.997383,50.538246,13.633847,-3.9589982,31.231838,-26.05748,17.181072,40.477215,32.050507,32.13037,6.9328766,-1.1526277,32.612705,-48.04478,-53.269054,-3.9061327,43.74464,-3.9522471,-5.597171,26.634987,47.391647,30.368572,-37.558643,27.032564,3.7541478,26.997534,8.907306,31.879057,25.262354,20.585602,-0.601839,-3.4450626,20.925325,-17.95417,43.60207,51.179035,21.77341,39.78929,17.699656,25.471218,-27.86553,24.6814,6.735698,28.744999,7.3594418,22.76027,22.541018,-49.90537,-21.840668,23.897179,30.123287,20.597778,16.778687,-58.167427,10.056172,40.622517,-42.802505,11.829796,-47.994495,-27.298355,-45.688484,16.188555,-45.237568,51.178764,25.901789,3.5754957,13.427198,18.514048,28.055159,-32.721786,-40.293476,9.457044],\"yaxis\":\"y\",\"type\":\"scatter\"}],                        {\"template\":{\"data\":{\"histogram2dcontour\":[{\"type\":\"histogram2dcontour\",\"colorbar\":{\"outlinewidth\":0,\"ticks\":\"\"},\"colorscale\":[[0.0,\"#0d0887\"],[0.1111111111111111,\"#46039f\"],[0.2222222222222222,\"#7201a8\"],[0.3333333333333333,\"#9c179e\"],[0.4444444444444444,\"#bd3786\"],[0.5555555555555556,\"#d8576b\"],[0.6666666666666666,\"#ed7953\"],[0.7777777777777778,\"#fb9f3a\"],[0.8888888888888888,\"#fdca26\"],[1.0,\"#f0f921\"]]}],\"choropleth\":[{\"type\":\"choropleth\",\"colorbar\":{\"outlinewidth\":0,\"ticks\":\"\"}}],\"histogram2d\":[{\"type\":\"histogram2d\",\"colorbar\":{\"outlinewidth\":0,\"ticks\":\"\"},\"colorscale\":[[0.0,\"#0d0887\"],[0.1111111111111111,\"#46039f\"],[0.2222222222222222,\"#7201a8\"],[0.3333333333333333,\"#9c179e\"],[0.4444444444444444,\"#bd3786\"],[0.5555555555555556,\"#d8576b\"],[0.6666666666666666,\"#ed7953\"],[0.7777777777777778,\"#fb9f3a\"],[0.8888888888888888,\"#fdca26\"],[1.0,\"#f0f921\"]]}],\"heatmap\":[{\"type\":\"heatmap\",\"colorbar\":{\"outlinewidth\":0,\"ticks\":\"\"},\"colorscale\":[[0.0,\"#0d0887\"],[0.1111111111111111,\"#46039f\"],[0.2222222222222222,\"#7201a8\"],[0.3333333333333333,\"#9c179e\"],[0.4444444444444444,\"#bd3786\"],[0.5555555555555556,\"#d8576b\"],[0.6666666666666666,\"#ed7953\"],[0.7777777777777778,\"#fb9f3a\"],[0.8888888888888888,\"#fdca26\"],[1.0,\"#f0f921\"]]}],\"heatmapgl\":[{\"type\":\"heatmapgl\",\"colorbar\":{\"outlinewidth\":0,\"ticks\":\"\"},\"colorscale\":[[0.0,\"#0d0887\"],[0.1111111111111111,\"#46039f\"],[0.2222222222222222,\"#7201a8\"],[0.3333333333333333,\"#9c179e\"],[0.4444444444444444,\"#bd3786\"],[0.5555555555555556,\"#d8576b\"],[0.6666666666666666,\"#ed7953\"],[0.7777777777777778,\"#fb9f3a\"],[0.8888888888888888,\"#fdca26\"],[1.0,\"#f0f921\"]]}],\"contourcarpet\":[{\"type\":\"contourcarpet\",\"colorbar\":{\"outlinewidth\":0,\"ticks\":\"\"}}],\"contour\":[{\"type\":\"contour\",\"colorbar\":{\"outlinewidth\":0,\"ticks\":\"\"},\"colorscale\":[[0.0,\"#0d0887\"],[0.1111111111111111,\"#46039f\"],[0.2222222222222222,\"#7201a8\"],[0.3333333333333333,\"#9c179e\"],[0.4444444444444444,\"#bd3786\"],[0.5555555555555556,\"#d8576b\"],[0.6666666666666666,\"#ed7953\"],[0.7777777777777778,\"#fb9f3a\"],[0.8888888888888888,\"#fdca26\"],[1.0,\"#f0f921\"]]}],\"surface\":[{\"type\":\"surface\",\"colorbar\":{\"outlinewidth\":0,\"ticks\":\"\"},\"colorscale\":[[0.0,\"#0d0887\"],[0.1111111111111111,\"#46039f\"],[0.2222222222222222,\"#7201a8\"],[0.3333333333333333,\"#9c179e\"],[0.4444444444444444,\"#bd3786\"],[0.5555555555555556,\"#d8576b\"],[0.6666666666666666,\"#ed7953\"],[0.7777777777777778,\"#fb9f3a\"],[0.8888888888888888,\"#fdca26\"],[1.0,\"#f0f921\"]]}],\"mesh3d\":[{\"type\":\"mesh3d\",\"colorbar\":{\"outlinewidth\":0,\"ticks\":\"\"}}],\"scatter\":[{\"fillpattern\":{\"fillmode\":\"overlay\",\"size\":10,\"solidity\":0.2},\"type\":\"scatter\"}],\"parcoords\":[{\"type\":\"parcoords\",\"line\":{\"colorbar\":{\"outlinewidth\":0,\"ticks\":\"\"}}}],\"scatterpolargl\":[{\"type\":\"scatterpolargl\",\"marker\":{\"colorbar\":{\"outlinewidth\":0,\"ticks\":\"\"}}}],\"bar\":[{\"error_x\":{\"color\":\"#2a3f5f\"},\"error_y\":{\"color\":\"#2a3f5f\"},\"marker\":{\"line\":{\"color\":\"#E5ECF6\",\"width\":0.5},\"pattern\":{\"fillmode\":\"overlay\",\"size\":10,\"solidity\":0.2}},\"type\":\"bar\"}],\"scattergeo\":[{\"type\":\"scattergeo\",\"marker\":{\"colorbar\":{\"outlinewidth\":0,\"ticks\":\"\"}}}],\"scatterpolar\":[{\"type\":\"scatterpolar\",\"marker\":{\"colorbar\":{\"outlinewidth\":0,\"ticks\":\"\"}}}],\"histogram\":[{\"marker\":{\"pattern\":{\"fillmode\":\"overlay\",\"size\":10,\"solidity\":0.2}},\"type\":\"histogram\"}],\"scattergl\":[{\"type\":\"scattergl\",\"marker\":{\"colorbar\":{\"outlinewidth\":0,\"ticks\":\"\"}}}],\"scatter3d\":[{\"type\":\"scatter3d\",\"line\":{\"colorbar\":{\"outlinewidth\":0,\"ticks\":\"\"}},\"marker\":{\"colorbar\":{\"outlinewidth\":0,\"ticks\":\"\"}}}],\"scattermapbox\":[{\"type\":\"scattermapbox\",\"marker\":{\"colorbar\":{\"outlinewidth\":0,\"ticks\":\"\"}}}],\"scatterternary\":[{\"type\":\"scatterternary\",\"marker\":{\"colorbar\":{\"outlinewidth\":0,\"ticks\":\"\"}}}],\"scattercarpet\":[{\"type\":\"scattercarpet\",\"marker\":{\"colorbar\":{\"outlinewidth\":0,\"ticks\":\"\"}}}],\"carpet\":[{\"aaxis\":{\"endlinecolor\":\"#2a3f5f\",\"gridcolor\":\"white\",\"linecolor\":\"white\",\"minorgridcolor\":\"white\",\"startlinecolor\":\"#2a3f5f\"},\"baxis\":{\"endlinecolor\":\"#2a3f5f\",\"gridcolor\":\"white\",\"linecolor\":\"white\",\"minorgridcolor\":\"white\",\"startlinecolor\":\"#2a3f5f\"},\"type\":\"carpet\"}],\"table\":[{\"cells\":{\"fill\":{\"color\":\"#EBF0F8\"},\"line\":{\"color\":\"white\"}},\"header\":{\"fill\":{\"color\":\"#C8D4E3\"},\"line\":{\"color\":\"white\"}},\"type\":\"table\"}],\"barpolar\":[{\"marker\":{\"line\":{\"color\":\"#E5ECF6\",\"width\":0.5},\"pattern\":{\"fillmode\":\"overlay\",\"size\":10,\"solidity\":0.2}},\"type\":\"barpolar\"}],\"pie\":[{\"automargin\":true,\"type\":\"pie\"}]},\"layout\":{\"autotypenumbers\":\"strict\",\"colorway\":[\"#636efa\",\"#EF553B\",\"#00cc96\",\"#ab63fa\",\"#FFA15A\",\"#19d3f3\",\"#FF6692\",\"#B6E880\",\"#FF97FF\",\"#FECB52\"],\"font\":{\"color\":\"#2a3f5f\"},\"hovermode\":\"closest\",\"hoverlabel\":{\"align\":\"left\"},\"paper_bgcolor\":\"white\",\"plot_bgcolor\":\"#E5ECF6\",\"polar\":{\"bgcolor\":\"#E5ECF6\",\"angularaxis\":{\"gridcolor\":\"white\",\"linecolor\":\"white\",\"ticks\":\"\"},\"radialaxis\":{\"gridcolor\":\"white\",\"linecolor\":\"white\",\"ticks\":\"\"}},\"ternary\":{\"bgcolor\":\"#E5ECF6\",\"aaxis\":{\"gridcolor\":\"white\",\"linecolor\":\"white\",\"ticks\":\"\"},\"baxis\":{\"gridcolor\":\"white\",\"linecolor\":\"white\",\"ticks\":\"\"},\"caxis\":{\"gridcolor\":\"white\",\"linecolor\":\"white\",\"ticks\":\"\"}},\"coloraxis\":{\"colorbar\":{\"outlinewidth\":0,\"ticks\":\"\"}},\"colorscale\":{\"sequential\":[[0.0,\"#0d0887\"],[0.1111111111111111,\"#46039f\"],[0.2222222222222222,\"#7201a8\"],[0.3333333333333333,\"#9c179e\"],[0.4444444444444444,\"#bd3786\"],[0.5555555555555556,\"#d8576b\"],[0.6666666666666666,\"#ed7953\"],[0.7777777777777778,\"#fb9f3a\"],[0.8888888888888888,\"#fdca26\"],[1.0,\"#f0f921\"]],\"sequentialminus\":[[0.0,\"#0d0887\"],[0.1111111111111111,\"#46039f\"],[0.2222222222222222,\"#7201a8\"],[0.3333333333333333,\"#9c179e\"],[0.4444444444444444,\"#bd3786\"],[0.5555555555555556,\"#d8576b\"],[0.6666666666666666,\"#ed7953\"],[0.7777777777777778,\"#fb9f3a\"],[0.8888888888888888,\"#fdca26\"],[1.0,\"#f0f921\"]],\"diverging\":[[0,\"#8e0152\"],[0.1,\"#c51b7d\"],[0.2,\"#de77ae\"],[0.3,\"#f1b6da\"],[0.4,\"#fde0ef\"],[0.5,\"#f7f7f7\"],[0.6,\"#e6f5d0\"],[0.7,\"#b8e186\"],[0.8,\"#7fbc41\"],[0.9,\"#4d9221\"],[1,\"#276419\"]]},\"xaxis\":{\"gridcolor\":\"white\",\"linecolor\":\"white\",\"ticks\":\"\",\"title\":{\"standoff\":15},\"zerolinecolor\":\"white\",\"automargin\":true,\"zerolinewidth\":2},\"yaxis\":{\"gridcolor\":\"white\",\"linecolor\":\"white\",\"ticks\":\"\",\"title\":{\"standoff\":15},\"zerolinecolor\":\"white\",\"automargin\":true,\"zerolinewidth\":2},\"scene\":{\"xaxis\":{\"backgroundcolor\":\"#E5ECF6\",\"gridcolor\":\"white\",\"linecolor\":\"white\",\"showbackground\":true,\"ticks\":\"\",\"zerolinecolor\":\"white\",\"gridwidth\":2},\"yaxis\":{\"backgroundcolor\":\"#E5ECF6\",\"gridcolor\":\"white\",\"linecolor\":\"white\",\"showbackground\":true,\"ticks\":\"\",\"zerolinecolor\":\"white\",\"gridwidth\":2},\"zaxis\":{\"backgroundcolor\":\"#E5ECF6\",\"gridcolor\":\"white\",\"linecolor\":\"white\",\"showbackground\":true,\"ticks\":\"\",\"zerolinecolor\":\"white\",\"gridwidth\":2}},\"shapedefaults\":{\"line\":{\"color\":\"#2a3f5f\"}},\"annotationdefaults\":{\"arrowcolor\":\"#2a3f5f\",\"arrowhead\":0,\"arrowwidth\":1},\"geo\":{\"bgcolor\":\"white\",\"landcolor\":\"#E5ECF6\",\"subunitcolor\":\"white\",\"showland\":true,\"showlakes\":true,\"lakecolor\":\"white\"},\"title\":{\"x\":0.05},\"mapbox\":{\"style\":\"light\"}}},\"xaxis\":{\"anchor\":\"y\",\"domain\":[0.0,1.0],\"title\":{\"text\":\"x\"}},\"yaxis\":{\"anchor\":\"x\",\"domain\":[0.0,1.0],\"title\":{\"text\":\"y\"}},\"coloraxis\":{\"colorbar\":{\"title\":{\"text\":\"similarity\"}},\"colorscale\":[[0.0,\"#440154\"],[0.1111111111111111,\"#482878\"],[0.2222222222222222,\"#3e4989\"],[0.3333333333333333,\"#31688e\"],[0.4444444444444444,\"#26828e\"],[0.5555555555555556,\"#1f9e89\"],[0.6666666666666666,\"#35b779\"],[0.7777777777777778,\"#6ece58\"],[0.8888888888888888,\"#b5de2b\"],[1.0,\"#fde725\"]]},\"legend\":{\"tracegroupgap\":0},\"title\":{\"text\":\"Palabras relacionadas con 'amor'\"}},                        {\"responsive\": true}                    ).then(function(){\n",
              "                            \n",
              "var gd = document.getElementById('dd0aab0b-6405-4328-99a7-374d49391001');\n",
              "var x = new MutationObserver(function (mutations, observer) {{\n",
              "        var display = window.getComputedStyle(gd).display;\n",
              "        if (!display || display === 'none') {{\n",
              "            console.log([gd, 'removed!']);\n",
              "            Plotly.purge(gd);\n",
              "            observer.disconnect();\n",
              "        }}\n",
              "}});\n",
              "\n",
              "// Listen for the removal of the full notebook cells\n",
              "var notebookContainer = gd.closest('#notebook-container');\n",
              "if (notebookContainer) {{\n",
              "    x.observe(notebookContainer, {childList: true});\n",
              "}}\n",
              "\n",
              "// Listen for the clearing of the current output cell\n",
              "var outputEl = gd.closest('.output');\n",
              "if (outputEl) {{\n",
              "    x.observe(outputEl, {childList: true});\n",
              "}}\n",
              "\n",
              "                        })                };                            </script>        </div>\n",
              "</body>\n",
              "</html>"
            ]
          },
          "metadata": {}
        }
      ]
    },
    {
      "cell_type": "code",
      "source": [
        "from sklearn.cluster import KMeans\n",
        "\n",
        "n_clusters = 6\n",
        "kmeans = KMeans(n_clusters=n_clusters, random_state=0)\n",
        "clusters = kmeans.fit_predict(vecs)\n",
        "\n",
        "df_vis['cluster'] = clusters\n",
        "\n",
        "fig = px.scatter(df_vis.head(500), x=\"x\", y=\"y\", text=\"word\", color=\"cluster\", title=\"Clustering de palabras\")\n",
        "fig.update_traces(marker_size=5)\n",
        "fig.show()"
      ],
      "metadata": {
        "colab": {
          "base_uri": "https://localhost:8080/",
          "height": 542
        },
        "id": "ifWK7umzIRHo",
        "outputId": "9c491fe0-0294-4cd1-c516-e59cc3a2b478"
      },
      "execution_count": null,
      "outputs": [
        {
          "output_type": "display_data",
          "data": {
            "text/html": [
              "<html>\n",
              "<head><meta charset=\"utf-8\" /></head>\n",
              "<body>\n",
              "    <div>            <script src=\"https://cdnjs.cloudflare.com/ajax/libs/mathjax/2.7.5/MathJax.js?config=TeX-AMS-MML_SVG\"></script><script type=\"text/javascript\">if (window.MathJax && window.MathJax.Hub && window.MathJax.Hub.Config) {window.MathJax.Hub.Config({SVG: {font: \"STIX-Web\"}});}</script>                <script type=\"text/javascript\">window.PlotlyConfig = {MathJaxConfig: 'local'};</script>\n",
              "        <script charset=\"utf-8\" src=\"https://cdn.plot.ly/plotly-2.35.2.min.js\"></script>                <div id=\"ea6f0241-1e97-4b70-ae8f-683ca365fc90\" class=\"plotly-graph-div\" style=\"height:525px; width:100%;\"></div>            <script type=\"text/javascript\">                                    window.PLOTLYENV=window.PLOTLYENV || {};                                    if (document.getElementById(\"ea6f0241-1e97-4b70-ae8f-683ca365fc90\")) {                    Plotly.newPlot(                        \"ea6f0241-1e97-4b70-ae8f-683ca365fc90\",                        [{\"hovertemplate\":\"x=%{x}\\u003cbr\\u003ey=%{y}\\u003cbr\\u003eword=%{text}\\u003cbr\\u003ecluster=%{marker.color}\\u003cextra\\u003e\\u003c\\u002fextra\\u003e\",\"legendgroup\":\"\",\"marker\":{\"color\":[1,1,4,0,1,1,4,1,4,4,4,0,1,1,2,4,3,1,1,0,1,2,2,5,1,1,1,1,1,4,1,1,0,1,0,4,5,1,0,1,1,1,5,0,0,0,1,1,5,1,1,1,5,4,2,0,1,1,1,1,1,0,3,0,1,1,5,3,1,5,1,1,1,1,5,1,1,0,2,1,1,0,2,1,1,1,1,3,1,1,1,0,3,4,1,1,1,2,1,1,4,1,1,3,0,4,4,1,3,1,1,4,4,1,0,1,0,3,1,1,3,0,3,0,4,1,1,5,5,0,0,1,1,1,3,0,0,1,5,1,1,0,1,1,1,4,2,1,3,1,1,0,3,4,1,1,1,2,4,5,0,1,2,3,5,1,4,2,1,1,3,1,1,2,0,1,5,5,0,0,5,1,1,1,1,5,1,0,1,0,1,5,0,1,3,1,5,5,5,1,1,1,1,5,1,0,2,4,0,5,3,5,2,3,4,0,1,3,4,1,1,1,1,1,1,0,1,4,2,1,1,0,1,3,1,1,4,4,1,0,1,5,5,3,1,0,0,4,4,1,5,1,3,1,0,1,1,1,3,0,1,2,1,1,1,1,1,1,2,1,0,1,1,1,1,5,3,1,1,1,0,5,1,4,5,0,5,3,5,1,5,1,1,0,1,1,4,5,5,0,0,0,4,3,0,1,0,0,1,0,1,4,2,1,0,2,1,3,5,0,0,0,1,1,4,0,1,1,3,4,1,5,1,1,2,5,1,4,3,4,0,1,3,1,0,1,1,0,0,1,1,2,5,4,4,4,4,1,0,1,1,0,4,2,3,5,3,5,1,0,1,4,1,3,5,1,2,0,5,1,4,1,5,5,5,1,1,1,1,2,1,5,0,1,1,0,5,1,1,4,3,4,3,5,1,5,1,1,5,0,4,1,0,4,0,0,4,2,4,1,1,5,1,0,1,5,1,0,0,3,4,3,3,3,1,1,4,4,5,4,1,5,3,1,1,4,1,1,3,1,1,4,1,3,1,5,2,1,1,5,1,1,4,3,1,0,1,1,1,0,0,1,1,0,1,1,5,2,0,3,2,1,2,1,1,1,5,5,4,4,5,5,2,4,0,5,1,1,5,0],\"coloraxis\":\"coloraxis\",\"symbol\":\"circle\",\"size\":5},\"mode\":\"markers+text\",\"name\":\"\",\"orientation\":\"v\",\"showlegend\":false,\"text\":[\"i\",\"you\",\"the\",\"a\",\"me\",\"to\",\"and\",\"it\",\"my\",\"in\",\"on\",\"i'm\",\"that\",\"no\",\"o\",\"your\",\"que\",\"do\",\"we\",\"like\",\"up\",\"de\",\"e\",\"eu\",\"be\",\"don't\",\"for\",\"know\",\"all\",\"of\",\"get\",\"so\",\"got\",\"love\",\"is\",\"with\",\"é\",\"this\",\"oh\",\"but\",\"just\",\"what\",\"não\",\"yeah\",\"when\",\"it's\",\"baby\",\"now\",\"você\",\"they\",\"can\",\"if\",\"pra\",\"out\",\"na\",\"go\",\"she\",\"ain't\",\"girl\",\"see\",\"wanna\",\"down\",\"te\",\"make\",\"nigga\",\"let\",\"se\",\"amor\",\"one\",\"meu\",\"come\",\"back\",\"want\",\"say\",\"um\",\"time\",\"can't\",\"ya\",\"vai\",\"her\",\"right\",\"at\",\"da\",\"was\",\"cause\",\"you're\",\"take\",\"vou\",\"how\",\"never\",\"way\",\"from\",\"em\",\"shit\",\"not\",\"he\",\"have\",\"com\",\"need\",\"that's\",\"as\",\"tell\",\"man\",\"vem\",\"chorus\",\"life\",\"here\",\"feel\",\"quero\",\"about\",\"give\",\"them\",\"niggas\",\"are\",\"put\",\"why\",\"keep\",\"la\",\"i'll\",\"fuck\",\"some\",\"bitch\",\"seu\",\"more\",\"off\",\"gotta\",\"gonna\",\"mais\",\"só\",\"then\",\"money\",\"will\",\"there\",\"been\",\"tá\",\"where\",\"night\",\"or\",\"tem\",\"good\",\"too\",\"look\",\"think\",\"could\",\"still\",\"these\",\"by\",\"who\",\"hey\",\"us\",\"said\",\"ooh\",\"por\",\"day\",\"stop\",\"around\",\"world\",\"ô\",\"over\",\"sou\",\"only\",\"had\",\"lá\",\"yo\",\"uma\",\"better\",\"through\",\"ela\",\"let's\",\"away\",\"uh\",\"call\",\"real\",\"minha\",\"g\",\"show\",\"ver\",\"coração\",\"ass\",\"body\",\"tudo\",\"'cause\",\"even\",\"every\",\"boy\",\"sem\",\"really\",\"little\",\"bad\",\"new\",\"heart\",\"quem\",\"verse\",\"turn\",\"ai\",\"would\",\"mas\",\"gente\",\"bem\",\"hard\",\"tonight\",\"won't\",\"mind\",\"quando\",\"am\",\"'em\",\"mundo\",\"hit\",\"work\",\"mim\",\"todo\",\"já\",\"vida\",\"ah\",\"big\",\"than\",\"thing\",\"como\",\"his\",\"gon'\",\"ever\",\"him\",\"hold\",\"stay\",\"did\",\"run\",\"leave\",\"game\",\"faz\",\"i've\",\"play\",\"dogg\",\"long\",\"para\",\"try\",\"our\",\"bitches\",\"niggaz\",\"again\",\"rock\",\"always\",\"ser\",\"quer\",\"hear\",\"things\",\"snoop\",\"50\",\"head\",\"eyes\",\"much\",\"tô\",\"gone\",\"home\",\"nothing\",\"beat\",\"everything\",\"high\",\"live\",\"dance\",\"2\",\"crazy\",\"ê\",\"god\",\"we're\",\"something\",\"before\",\"cuz\",\"die\",\"essa\",\"made\",\"watch\",\"there's\",\"name\",\"should\",\"find\",\"sei\",\"2x\",\"ride\",\"mine\",\"talk\",\"an\",\"amar\",\"u\",\"hands\",\"pode\",\"damn\",\"assim\",\"esse\",\"foi\",\"top\",\"teu\",\"done\",\"same\",\"girls\",\"i'ma\",\"move\",\"two\",\"dia\",\"agora\",\"young\",\"y'all\",\"side\",\"black\",\"dá\",\"everybody\",\"people\",\"its\",\"first\",\"going\",\"d\",\"ready\",\"while\",\"mão\",\"told\",\"1\",\"sua\",\"nobody\",\"another\",\"os\",\"she's\",\"drop\",\"hot\",\"break\",\"face\",\"other\",\"party\",\"believe\",\"please\",\"bring\",\"into\",\"care\",\"mar\",\"last\",\"what's\",\"pro\",\"fazer\",\"change\",\"tha\",\"aqui\",\"came\",\"club\",\"wait\",\"bom\",\"best\",\"im\",\"you'll\",\"wrong\",\"mean\",\"cent\",\"fly\",\"well\",\"toda\",\"tão\",\"whole\",\"without\",\"fall\",\"wit\",\"place\",\"b\",\"alone\",\"walk\",\"might\",\"looking\",\"samba\",\"huh\",\"dar\",\"y\",\"ter\",\"yes\",\"ha\",\"feeling\",\"tryna\",\"left\",\"ou\",\"sol\",\"mama\",\"ele\",\"f\",\"ficar\",\"thought\",\"remember\",\"own\",\"deixa\",\"corpo\",\"tempo\",\"t\",\"touch\",\"cry\",\"were\",\"chão\",\"enough\",\"nem\",\"c\",\"many\",\"till\",\"shake\",\"até\",\"though\",\"matter\",\"floor\",\"start\",\"light\",\"ta\",\"feliz\",\"hand\",\"ao\",\"used\",\"aint\",\"sempre\",\"hook\",\"getting\",\"didn't\",\"throw\",\"hood\",\"roll\",\"low\",\"pull\",\"dança\",\"hoes\",\"wish\",\"true\",\"beijo\",\"trying\",\"m\",\"dont\",\"nada\",\"myself\",\"next\",\"pop\",\"aí\",\"lights\",\"okay\",\"tu\",\"eh\",\"together\",\"forever\",\"he's\",\"end\",\"nosso\",\"house\",\"kiss\",\"hoje\",\"mi\",\"'bout\",\"inside\",\"air\",\"bout\",\"i'd\",\"boom\",\"slow\",\"pain\",\"talking\",\"babe\",\"vamos\",\"ask\",\"jeito\",\"olha\",\"hate\",\"music\",\"viver\",\"somebody\",\"friends\",\"coming\",\"porque\",\"maybe\",\"round\",\"because\",\"we'll\",\"song\",\"pussy\",\"fire\",\"heard\",\"free\",\"yea\",\"seen\",\"hell\",\"onde\",\"menina\",\"s\",\"leva\",\"refrão\",\"thug\",\"alegria\",\"lord\",\"fight\",\"lost\",\"nos\",\"céu\",\"shot\",\"after\",\"nunca\",\"comigo\",\"pega\",\"smoke\",\"n\",\"deus\",\"until\",\"hope\",\"sabe\",\"old\"],\"x\":[-22.36878,-22.292469,3.3870587,-4.1435027,-22.325893,-18.797995,2.9292367,-22.194857,20.329565,15.171571,8.372205,-7.863915,-21.77473,-29.516033,13.022949,20.397133,-18.460405,-25.818264,-22.378792,-8.488889,-14.757537,34.59448,12.630127,-8.968214,-28.477203,-23.871353,-14.083739,-19.24551,-7.8780165,2.967624,-18.540018,-23.235237,3.5214624,-23.023146,-9.427533,23.909405,2.3088422,-18.68844,-18.54175,-32.820286,-21.974161,-23.26702,5.316264,-12.234205,-12.932046,24.458294,-21.870478,-13.687347,-8.767653,-22.414413,-21.47222,-27.02266,2.9816723,5.44637,17.816595,-17.751108,-22.298956,-34.519615,-21.656015,-22.338219,-22.513695,-13.641768,-30.108328,-18.723545,-36.010845,-25.110626,-3.5148773,-16.444235,-13.908728,10.521047,-21.86652,-25.596867,-25.183537,-21.20838,-1.5320295,-13.640263,-25.576252,-15.113605,-0.77407575,-10.452862,-17.611767,1.4995452,23.103573,-10.530669,-11.995816,-27.7624,-18.953354,-11.099898,-18.61031,-28.67622,-12.10349,15.031423,-22.651842,-3.9229176,-23.324572,-22.583158,-19.81267,11.621645,-19.677889,-24.259119,36.426884,-23.941614,-11.724788,-1.4754127,-7.245969,-2.6847708,4.734738,-21.125515,-12.884642,-23.742676,-21.697943,2.685733,0.61118495,-8.250682,-14.895363,-21.070766,-12.341425,-21.950258,-32.24043,-24.228611,-28.45415,-2.8451838,-19.122448,-0.83081096,8.2632265,-18.593512,-20.977186,1.9105345,5.9422245,-9.2289095,-2.7699254,-30.076721,-24.420275,-14.049655,-3.7958045,19.594656,-3.6605406,-38.17957,7.6592436,-22.512217,-40.072556,5.2961082,-23.887745,-21.28948,-20.041113,-2.1521852,20.905796,-31.019772,-11.674847,-17.998787,-22.425898,-15.851899,-11.615028,-1.2717364,-29.096434,-32.84979,-11.552282,22.104977,30.342272,8.780447,-8.593787,-26.639376,16.773579,-28.232634,15.5474205,-30.095331,1.3073405,9.624364,-18.662048,-12.882293,-9.04148,-38.500183,-12.726673,20.871616,5.286721,-24.093473,-1.8859876,6.866471,6.892214,-11.6813545,0.13177815,-28.651436,-26.082094,-25.450687,-17.482195,-0.028617574,-24.061977,-3.8913488,-25.35886,20.417187,-20.949377,-2.0375965,-3.49238,-20.710905,-8.062309,-27.042263,-2.4183369,6.886108,10.63154,-16.523367,-17.51004,-26.435286,-7.3080373,3.0272584,-26.255953,12.232461,-1.5584946,4.0292697,-14.900856,-11.672613,-15.112835,-3.0478926,19.94107,-17.865717,14.9314575,-2.8210974,-15.441108,-31.794762,20.364088,-20.673134,-27.100767,-22.120663,-30.002129,-20.122076,-24.320818,-14.272237,-28.39461,-3.8337412,34.462284,-16.30595,-23.72895,-8.333147,-15.829314,-12.917573,-27.049494,-15.214688,0.8974048,0.21971008,-25.272818,-11.095436,-8.6166,6.6857724,4.9754295,-12.738811,-11.732933,-8.322735,0.8051161,6.1461506,1.7798448,-24.836718,-8.624807,-20.35214,-29.995237,-18.842865,-5.9694,-19.72376,-5.0033107,-17.322329,-24.268631,-2.2760518,-39.674046,19.903173,-24.330587,-27.468542,-19.127964,-29.54381,-32.854218,-38.260693,11.506194,-5.7145357,-6.884761,-17.440723,-26.501408,-27.61061,-33.48437,-4.825628,-4.6253114,-40.81511,-24.037907,-19.531384,7.5781026,-5.7488317,-23.548378,22.934792,-3.8449185,-10.139143,5.2337856,-6.550705,-7.358404,-38.2144,10.5876665,-10.374172,-12.626541,-14.250585,-16.994244,-15.855175,20.798975,-1.1412463,-5.911522,-1.3489097,0.5532439,16.011309,16.884645,-8.071649,27.988403,-7.928514,24.543297,10.850021,-23.963915,12.151698,-23.954344,17.774252,4.4771504,-28.36875,-2.1148043,19.552092,-33.95562,-10.572842,18.656471,-12.625402,-8.319734,-8.919427,-21.06273,-22.964676,-1.665771,-17.604464,-30.219477,-39.02248,-27.842,1.1804181,-22.997837,10.800246,-10.654217,-22.159557,9.2813425,4.2749586,-15.216638,3.4980953,-11.703388,9.251532,-7.2914047,-30.030779,-4.774061,-13.733404,-7.8542185,-31.48114,-23.863361,15.307008,0.80563396,-27.738998,-30.261236,11.458354,13.675495,4.5470834,-3.9517193,-2.169819,23.941704,-13.39722,13.439873,-28.488144,-43.921932,-12.513769,8.917774,19.313429,-8.701998,-1.2570591,-21.853235,5.4946833,-11.819722,2.8095994,-13.053985,-2.7477658,-8.93305,-9.606287,12.071042,-23.394833,37.950016,14.712452,-1.2814454,-27.334955,-2.5918224,-6.3273945,1.2395508,8.401226,4.917368,-32.364754,-25.414658,-21.824266,-26.211105,2.3532753,-16.540401,-5.96751,14.028968,-11.389667,-21.947033,-9.126025,-1.3267788,-25.498188,-23.223127,29.952826,-34.111664,5.145511,-21.068815,-0.98548096,-23.497747,3.6034925,-18.198362,-34.635006,-7.133772,-3.669086,-2.1044307,-28.513807,10.28375,-1.0212082,9.685127,-13.650663,7.8806047,9.526645,1.1002542,-24.312843,-24.49037,9.931301,-17.436996,14.011106,-23.792828,-12.695849,-27.678102,-9.916348,4.758926,-5.331102,3.0181608,-27.06917,-23.030657,-32.699566,-20.846134,-27.4875,22.78485,-4.3318486,7.7060895,9.059903,-33.784412,-5.7415705,-26.06382,-23.739508,-18.344774,23.198042,-17.899134,-25.335222,-19.46931,-13.157141,-20.478596,16.788755,-22.572601,-14.389285,-22.333138,1.0871627,13.409073,-38.116623,-14.831958,1.9011637,-21.57734,-13.696952,1.2568344,-27.847769,-18.871391,-15.340086,-16.359766,-31.476652,-9.729314,6.4187717,0.9170317,-25.163343,-19.174051,-4.779044,-11.993765,-17.26394,-3.1335382,11.703794,13.585666,-6.6935472,15.243577,-18.720888,17.172348,-19.54798,-31.58547,-10.053658,18.409195,11.18428,19.600643,1.2245365,-3.9502149,-7.6038017,-1.2458154,19.65194,15.413126,10.060416,-15.428922,-35.838882,-1.0582315,19.427792],\"xaxis\":\"x\",\"y\":[16.58538,16.610952,27.216276,21.560936,16.538248,24.757294,21.312447,16.482002,48.767353,38.144367,29.164604,14.183356,16.316475,18.437754,-23.079824,48.82646,-32.274387,19.692543,16.523718,12.038378,12.679771,-22.99801,-28.801102,-55.62282,29.940573,15.570442,22.605127,24.000378,25.102007,39.857075,11.73176,30.127556,19.438644,39.37317,5.8458395,43.019917,-45.716557,17.193005,1.8894538,17.708426,17.549582,20.076107,-51.15448,-2.7651863,11.183318,13.838011,13.101791,24.400732,-46.89036,16.596718,15.359503,19.075794,-53.838966,26.569002,-29.307276,8.594922,16.508566,30.315355,13.648056,21.471767,14.731326,12.439225,-28.977879,7.261153,9.705526,14.871709,-42.070488,-29.839302,35.58832,-49.28781,12.106764,4.3294215,18.389702,24.17112,-33.83251,41.590168,16.830832,10.179009,-21.343489,18.541346,11.289674,6.2604623,-29.961292,18.787281,25.305044,25.720407,11.641634,-34.18821,19.52157,23.466232,49.508724,8.8436365,2.4482772,23.33973,30.258375,16.594534,20.976746,-30.460918,20.625715,21.309452,22.7794,25.695631,22.343187,-17.50204,-0.64614576,37.917126,27.315222,44.137566,-39.976974,25.141676,19.686472,34.535694,31.37608,44.38571,11.513702,25.475042,9.83512,-22.387033,14.797211,20.632076,-2.745538,11.183031,-43.20903,13.08196,28.794437,21.236586,21.743128,-63.106056,-54.592567,14.255128,8.922054,34.11364,31.665539,53.06597,-19.39678,8.039856,7.4889364,16.213974,-52.711926,29.135538,18.316523,10.559774,24.693758,15.695217,29.517656,31.258747,-7.538733,34.946846,-13.115944,36.238255,21.617558,2.8422062,-31.81617,23.90913,16.65904,7.4068623,32.696365,-14.493553,16.18706,-41.016624,17.32367,42.52208,-26.441145,-22.307941,-39.962242,34.35329,53.412952,-20.883512,12.93462,50.175014,-15.674555,9.961331,27.25283,-42.05684,-1.7546335,19.088516,-59.51197,-38.110085,9.622461,9.917272,-41.54508,19.97521,23.892035,47.250355,13.104953,-64.04362,19.156988,13.62945,8.5475235,14.288922,50.70685,-42.80293,-4.1342883,11.978078,-31.871172,19.193188,-49.14814,-52.009502,-48.662823,21.538483,16.425919,16.297771,38.40092,-52.99105,34.467964,14.59293,-24.576591,22.20294,11.845799,-49.31161,-26.499872,-44.980576,-41.607212,-8.345943,17.624996,15.687603,25.16182,-13.77263,48.79338,22.277212,20.699474,16.583843,16.533176,19.85883,21.047499,3.6540048,24.29473,23.298857,-28.997383,50.538246,13.633847,-3.9589982,31.231838,-26.05748,17.181072,40.477215,32.050507,32.13037,6.9328766,-1.1526277,32.612705,-48.04478,-53.269054,-3.9061327,43.74464,-3.9522471,-5.597171,26.634987,47.391647,30.368572,-37.558643,27.032564,3.7541478,26.997534,8.907306,31.879057,25.262354,20.585602,-0.601839,-3.4450626,20.925325,-17.95417,43.60207,51.179035,21.77341,39.78929,17.699656,25.471218,-27.86553,24.6814,6.735698,28.744999,7.3594418,22.76027,22.541018,-49.90537,-21.840668,23.897179,30.123287,20.597778,16.778687,-58.167427,10.056172,40.622517,-42.802505,11.829796,-47.994495,-27.298355,-45.688484,16.188555,-45.237568,51.178764,25.901789,3.5754957,13.427198,18.514048,28.055159,-32.721786,-40.293476,9.457044,2.8007011,5.4443316,27.253864,-25.1051,7.8082194,44.22264,13.777233,14.484422,33.969704,-6.611617,19.1492,34.73086,-23.461494,21.558243,-3.7417643,-37.978634,29.906622,-7.99468,-59.245018,6.5079784,7.5743604,11.828127,13.15129,52.54055,34.250946,5.3812914,27.896034,11.00404,2.7116451,54.169342,22.466219,-39.77718,18.541927,8.489006,-32.566257,-50.165504,31.983034,27.20831,-36.80139,35.33063,9.593929,10.702345,-21.896042,45.428955,14.156851,33.38359,28.060816,-0.24376574,-5.5941443,33.86004,21.242735,-20.51501,-46.940796,35.903305,28.534615,49.755196,43.05583,33.916916,-6.5559,24.425524,14.39685,13.266258,40.424053,-21.778568,-15.524683,-55.678318,-26.670212,-51.829506,19.197065,-0.8979128,28.489883,32.144707,48.46315,-24.733242,-40.01038,5.905804,-32.44091,-6.9682293,-55.084736,22.737999,34.494328,24.754984,-60.771935,-44.327435,-57.227417,11.693443,15.433609,10.893468,34.74964,-20.083178,21.504461,-46.583603,-7.54922,42.452694,14.988873,9.997199,-44.637287,29.534575,24.238897,35.00606,2.1711955,48.08992,1.725156,-42.8241,47.078793,-43.93128,19.92417,30.358051,-58.053467,-4.1557484,47.278584,21.533539,11.7215805,23.544645,12.084742,13.162604,25.543503,-22.102314,31.935575,36.56986,29.820908,-45.236427,22.229069,-5.8204465,15.197198,-52.188377,26.950663,16.015118,15.385027,-28.23139,45.822918,-0.2752278,-21.171345,-25.008827,36.526363,34.119244,19.236046,42.128353,-49.971855,37.266727,5.9507723,-44.90627,-31.00804,25.13833,35.962185,40.522247,22.020317,19.723362,-11.3214445,15.391921,44.924732,45.995052,15.945249,-30.67349,18.223715,-39.291286,-23.45786,16.3231,12.956097,-54.955624,18.92055,45.414467,45.98748,-31.035007,23.086073,6.4253125,35.571873,33.24569,27.76954,10.147711,18.046518,50.41024,9.202323,-6.673878,53.43176,35.31196,-45.69296,-22.015171,-2.420425,-27.139633,-9.989848,17.228424,-35.90056,41.33037,45.73201,51.962074,-60.976852,-39.681786,33.699066,53.24553,-53.28673,-44.537262,-26.81689,36.187134,1.1707531,-57.991886,23.710201,27.234016,-46.619614,-1.2451086],\"yaxis\":\"y\",\"type\":\"scatter\"}],                        {\"template\":{\"data\":{\"histogram2dcontour\":[{\"type\":\"histogram2dcontour\",\"colorbar\":{\"outlinewidth\":0,\"ticks\":\"\"},\"colorscale\":[[0.0,\"#0d0887\"],[0.1111111111111111,\"#46039f\"],[0.2222222222222222,\"#7201a8\"],[0.3333333333333333,\"#9c179e\"],[0.4444444444444444,\"#bd3786\"],[0.5555555555555556,\"#d8576b\"],[0.6666666666666666,\"#ed7953\"],[0.7777777777777778,\"#fb9f3a\"],[0.8888888888888888,\"#fdca26\"],[1.0,\"#f0f921\"]]}],\"choropleth\":[{\"type\":\"choropleth\",\"colorbar\":{\"outlinewidth\":0,\"ticks\":\"\"}}],\"histogram2d\":[{\"type\":\"histogram2d\",\"colorbar\":{\"outlinewidth\":0,\"ticks\":\"\"},\"colorscale\":[[0.0,\"#0d0887\"],[0.1111111111111111,\"#46039f\"],[0.2222222222222222,\"#7201a8\"],[0.3333333333333333,\"#9c179e\"],[0.4444444444444444,\"#bd3786\"],[0.5555555555555556,\"#d8576b\"],[0.6666666666666666,\"#ed7953\"],[0.7777777777777778,\"#fb9f3a\"],[0.8888888888888888,\"#fdca26\"],[1.0,\"#f0f921\"]]}],\"heatmap\":[{\"type\":\"heatmap\",\"colorbar\":{\"outlinewidth\":0,\"ticks\":\"\"},\"colorscale\":[[0.0,\"#0d0887\"],[0.1111111111111111,\"#46039f\"],[0.2222222222222222,\"#7201a8\"],[0.3333333333333333,\"#9c179e\"],[0.4444444444444444,\"#bd3786\"],[0.5555555555555556,\"#d8576b\"],[0.6666666666666666,\"#ed7953\"],[0.7777777777777778,\"#fb9f3a\"],[0.8888888888888888,\"#fdca26\"],[1.0,\"#f0f921\"]]}],\"heatmapgl\":[{\"type\":\"heatmapgl\",\"colorbar\":{\"outlinewidth\":0,\"ticks\":\"\"},\"colorscale\":[[0.0,\"#0d0887\"],[0.1111111111111111,\"#46039f\"],[0.2222222222222222,\"#7201a8\"],[0.3333333333333333,\"#9c179e\"],[0.4444444444444444,\"#bd3786\"],[0.5555555555555556,\"#d8576b\"],[0.6666666666666666,\"#ed7953\"],[0.7777777777777778,\"#fb9f3a\"],[0.8888888888888888,\"#fdca26\"],[1.0,\"#f0f921\"]]}],\"contourcarpet\":[{\"type\":\"contourcarpet\",\"colorbar\":{\"outlinewidth\":0,\"ticks\":\"\"}}],\"contour\":[{\"type\":\"contour\",\"colorbar\":{\"outlinewidth\":0,\"ticks\":\"\"},\"colorscale\":[[0.0,\"#0d0887\"],[0.1111111111111111,\"#46039f\"],[0.2222222222222222,\"#7201a8\"],[0.3333333333333333,\"#9c179e\"],[0.4444444444444444,\"#bd3786\"],[0.5555555555555556,\"#d8576b\"],[0.6666666666666666,\"#ed7953\"],[0.7777777777777778,\"#fb9f3a\"],[0.8888888888888888,\"#fdca26\"],[1.0,\"#f0f921\"]]}],\"surface\":[{\"type\":\"surface\",\"colorbar\":{\"outlinewidth\":0,\"ticks\":\"\"},\"colorscale\":[[0.0,\"#0d0887\"],[0.1111111111111111,\"#46039f\"],[0.2222222222222222,\"#7201a8\"],[0.3333333333333333,\"#9c179e\"],[0.4444444444444444,\"#bd3786\"],[0.5555555555555556,\"#d8576b\"],[0.6666666666666666,\"#ed7953\"],[0.7777777777777778,\"#fb9f3a\"],[0.8888888888888888,\"#fdca26\"],[1.0,\"#f0f921\"]]}],\"mesh3d\":[{\"type\":\"mesh3d\",\"colorbar\":{\"outlinewidth\":0,\"ticks\":\"\"}}],\"scatter\":[{\"fillpattern\":{\"fillmode\":\"overlay\",\"size\":10,\"solidity\":0.2},\"type\":\"scatter\"}],\"parcoords\":[{\"type\":\"parcoords\",\"line\":{\"colorbar\":{\"outlinewidth\":0,\"ticks\":\"\"}}}],\"scatterpolargl\":[{\"type\":\"scatterpolargl\",\"marker\":{\"colorbar\":{\"outlinewidth\":0,\"ticks\":\"\"}}}],\"bar\":[{\"error_x\":{\"color\":\"#2a3f5f\"},\"error_y\":{\"color\":\"#2a3f5f\"},\"marker\":{\"line\":{\"color\":\"#E5ECF6\",\"width\":0.5},\"pattern\":{\"fillmode\":\"overlay\",\"size\":10,\"solidity\":0.2}},\"type\":\"bar\"}],\"scattergeo\":[{\"type\":\"scattergeo\",\"marker\":{\"colorbar\":{\"outlinewidth\":0,\"ticks\":\"\"}}}],\"scatterpolar\":[{\"type\":\"scatterpolar\",\"marker\":{\"colorbar\":{\"outlinewidth\":0,\"ticks\":\"\"}}}],\"histogram\":[{\"marker\":{\"pattern\":{\"fillmode\":\"overlay\",\"size\":10,\"solidity\":0.2}},\"type\":\"histogram\"}],\"scattergl\":[{\"type\":\"scattergl\",\"marker\":{\"colorbar\":{\"outlinewidth\":0,\"ticks\":\"\"}}}],\"scatter3d\":[{\"type\":\"scatter3d\",\"line\":{\"colorbar\":{\"outlinewidth\":0,\"ticks\":\"\"}},\"marker\":{\"colorbar\":{\"outlinewidth\":0,\"ticks\":\"\"}}}],\"scattermapbox\":[{\"type\":\"scattermapbox\",\"marker\":{\"colorbar\":{\"outlinewidth\":0,\"ticks\":\"\"}}}],\"scatterternary\":[{\"type\":\"scatterternary\",\"marker\":{\"colorbar\":{\"outlinewidth\":0,\"ticks\":\"\"}}}],\"scattercarpet\":[{\"type\":\"scattercarpet\",\"marker\":{\"colorbar\":{\"outlinewidth\":0,\"ticks\":\"\"}}}],\"carpet\":[{\"aaxis\":{\"endlinecolor\":\"#2a3f5f\",\"gridcolor\":\"white\",\"linecolor\":\"white\",\"minorgridcolor\":\"white\",\"startlinecolor\":\"#2a3f5f\"},\"baxis\":{\"endlinecolor\":\"#2a3f5f\",\"gridcolor\":\"white\",\"linecolor\":\"white\",\"minorgridcolor\":\"white\",\"startlinecolor\":\"#2a3f5f\"},\"type\":\"carpet\"}],\"table\":[{\"cells\":{\"fill\":{\"color\":\"#EBF0F8\"},\"line\":{\"color\":\"white\"}},\"header\":{\"fill\":{\"color\":\"#C8D4E3\"},\"line\":{\"color\":\"white\"}},\"type\":\"table\"}],\"barpolar\":[{\"marker\":{\"line\":{\"color\":\"#E5ECF6\",\"width\":0.5},\"pattern\":{\"fillmode\":\"overlay\",\"size\":10,\"solidity\":0.2}},\"type\":\"barpolar\"}],\"pie\":[{\"automargin\":true,\"type\":\"pie\"}]},\"layout\":{\"autotypenumbers\":\"strict\",\"colorway\":[\"#636efa\",\"#EF553B\",\"#00cc96\",\"#ab63fa\",\"#FFA15A\",\"#19d3f3\",\"#FF6692\",\"#B6E880\",\"#FF97FF\",\"#FECB52\"],\"font\":{\"color\":\"#2a3f5f\"},\"hovermode\":\"closest\",\"hoverlabel\":{\"align\":\"left\"},\"paper_bgcolor\":\"white\",\"plot_bgcolor\":\"#E5ECF6\",\"polar\":{\"bgcolor\":\"#E5ECF6\",\"angularaxis\":{\"gridcolor\":\"white\",\"linecolor\":\"white\",\"ticks\":\"\"},\"radialaxis\":{\"gridcolor\":\"white\",\"linecolor\":\"white\",\"ticks\":\"\"}},\"ternary\":{\"bgcolor\":\"#E5ECF6\",\"aaxis\":{\"gridcolor\":\"white\",\"linecolor\":\"white\",\"ticks\":\"\"},\"baxis\":{\"gridcolor\":\"white\",\"linecolor\":\"white\",\"ticks\":\"\"},\"caxis\":{\"gridcolor\":\"white\",\"linecolor\":\"white\",\"ticks\":\"\"}},\"coloraxis\":{\"colorbar\":{\"outlinewidth\":0,\"ticks\":\"\"}},\"colorscale\":{\"sequential\":[[0.0,\"#0d0887\"],[0.1111111111111111,\"#46039f\"],[0.2222222222222222,\"#7201a8\"],[0.3333333333333333,\"#9c179e\"],[0.4444444444444444,\"#bd3786\"],[0.5555555555555556,\"#d8576b\"],[0.6666666666666666,\"#ed7953\"],[0.7777777777777778,\"#fb9f3a\"],[0.8888888888888888,\"#fdca26\"],[1.0,\"#f0f921\"]],\"sequentialminus\":[[0.0,\"#0d0887\"],[0.1111111111111111,\"#46039f\"],[0.2222222222222222,\"#7201a8\"],[0.3333333333333333,\"#9c179e\"],[0.4444444444444444,\"#bd3786\"],[0.5555555555555556,\"#d8576b\"],[0.6666666666666666,\"#ed7953\"],[0.7777777777777778,\"#fb9f3a\"],[0.8888888888888888,\"#fdca26\"],[1.0,\"#f0f921\"]],\"diverging\":[[0,\"#8e0152\"],[0.1,\"#c51b7d\"],[0.2,\"#de77ae\"],[0.3,\"#f1b6da\"],[0.4,\"#fde0ef\"],[0.5,\"#f7f7f7\"],[0.6,\"#e6f5d0\"],[0.7,\"#b8e186\"],[0.8,\"#7fbc41\"],[0.9,\"#4d9221\"],[1,\"#276419\"]]},\"xaxis\":{\"gridcolor\":\"white\",\"linecolor\":\"white\",\"ticks\":\"\",\"title\":{\"standoff\":15},\"zerolinecolor\":\"white\",\"automargin\":true,\"zerolinewidth\":2},\"yaxis\":{\"gridcolor\":\"white\",\"linecolor\":\"white\",\"ticks\":\"\",\"title\":{\"standoff\":15},\"zerolinecolor\":\"white\",\"automargin\":true,\"zerolinewidth\":2},\"scene\":{\"xaxis\":{\"backgroundcolor\":\"#E5ECF6\",\"gridcolor\":\"white\",\"linecolor\":\"white\",\"showbackground\":true,\"ticks\":\"\",\"zerolinecolor\":\"white\",\"gridwidth\":2},\"yaxis\":{\"backgroundcolor\":\"#E5ECF6\",\"gridcolor\":\"white\",\"linecolor\":\"white\",\"showbackground\":true,\"ticks\":\"\",\"zerolinecolor\":\"white\",\"gridwidth\":2},\"zaxis\":{\"backgroundcolor\":\"#E5ECF6\",\"gridcolor\":\"white\",\"linecolor\":\"white\",\"showbackground\":true,\"ticks\":\"\",\"zerolinecolor\":\"white\",\"gridwidth\":2}},\"shapedefaults\":{\"line\":{\"color\":\"#2a3f5f\"}},\"annotationdefaults\":{\"arrowcolor\":\"#2a3f5f\",\"arrowhead\":0,\"arrowwidth\":1},\"geo\":{\"bgcolor\":\"white\",\"landcolor\":\"#E5ECF6\",\"subunitcolor\":\"white\",\"showland\":true,\"showlakes\":true,\"lakecolor\":\"white\"},\"title\":{\"x\":0.05},\"mapbox\":{\"style\":\"light\"}}},\"xaxis\":{\"anchor\":\"y\",\"domain\":[0.0,1.0],\"title\":{\"text\":\"x\"}},\"yaxis\":{\"anchor\":\"x\",\"domain\":[0.0,1.0],\"title\":{\"text\":\"y\"}},\"coloraxis\":{\"colorbar\":{\"title\":{\"text\":\"cluster\"}},\"colorscale\":[[0.0,\"#0d0887\"],[0.1111111111111111,\"#46039f\"],[0.2222222222222222,\"#7201a8\"],[0.3333333333333333,\"#9c179e\"],[0.4444444444444444,\"#bd3786\"],[0.5555555555555556,\"#d8576b\"],[0.6666666666666666,\"#ed7953\"],[0.7777777777777778,\"#fb9f3a\"],[0.8888888888888888,\"#fdca26\"],[1.0,\"#f0f921\"]]},\"legend\":{\"tracegroupgap\":0},\"title\":{\"text\":\"Clustering de palabras\"}},                        {\"responsive\": true}                    ).then(function(){\n",
              "                            \n",
              "var gd = document.getElementById('ea6f0241-1e97-4b70-ae8f-683ca365fc90');\n",
              "var x = new MutationObserver(function (mutations, observer) {{\n",
              "        var display = window.getComputedStyle(gd).display;\n",
              "        if (!display || display === 'none') {{\n",
              "            console.log([gd, 'removed!']);\n",
              "            Plotly.purge(gd);\n",
              "            observer.disconnect();\n",
              "        }}\n",
              "}});\n",
              "\n",
              "// Listen for the removal of the full notebook cells\n",
              "var notebookContainer = gd.closest('#notebook-container');\n",
              "if (notebookContainer) {{\n",
              "    x.observe(notebookContainer, {childList: true});\n",
              "}}\n",
              "\n",
              "// Listen for the clearing of the current output cell\n",
              "var outputEl = gd.closest('.output');\n",
              "if (outputEl) {{\n",
              "    x.observe(outputEl, {childList: true});\n",
              "}}\n",
              "\n",
              "                        })                };                            </script>        </div>\n",
              "</body>\n",
              "</html>"
            ]
          },
          "metadata": {}
        }
      ]
    },
    {
      "cell_type": "markdown",
      "source": [
        "Podemos apreciar en este punto la habilidad del modelo para agrupar palbras en ingles con palabras en el mismo idioma. Mientras que separa en otro cluster a las palabras en portugues"
      ],
      "metadata": {
        "id": "nxoHkzz6Q1EJ"
      }
    },
    {
      "cell_type": "code",
      "execution_count": null,
      "metadata": {
        "colab": {
          "base_uri": "https://localhost:8080/"
        },
        "id": "uKBGhlr_gzXZ",
        "outputId": "aea0de73-257d-434c-9050-3dac828cbc87"
      },
      "outputs": [
        {
          "output_type": "stream",
          "name": "stdout",
          "text": [
            "[ 0.13516785 -0.43144062 -0.30593097 -0.50244963  0.17962487 -0.5453609\n",
            " -0.358045    0.2794594  -0.39589256  0.06936231  0.0058319  -0.41479394\n",
            " -0.2409691   0.22647014 -0.58296394  0.04070689  0.27261302  0.3525538\n",
            " -0.44696712  0.06900269 -0.84996223  0.29308864  0.14907765 -0.42116836\n",
            "  0.2084916  -0.18115635  0.5473923  -0.01244124 -0.0603272   0.0061966\n",
            " -0.29160416 -0.24029037  0.38679335  0.23006533 -0.16896002  0.4255747\n",
            "  0.03840925 -0.07717782 -0.7970055   0.26670712 -0.20773202  0.39242807\n",
            "  0.15006943 -0.13347252  0.08231922  0.3231189   0.4611676   0.24685703\n",
            " -0.7579964  -0.07416999  0.04263885  0.28988957 -0.1634144  -0.03306369\n",
            "  0.28571826  0.03377593  0.07926598 -0.2044059   0.4220212   0.17007244\n",
            "  0.20464063 -0.06018905  0.40699625  0.01406785  0.3336439  -0.14526096\n",
            "  0.08019774 -0.0419672   0.07725131  0.4997376  -0.18137819 -0.15397367\n",
            " -0.3069389   0.00136119 -0.3271583   0.24805906 -0.36432788 -0.19728453\n",
            " -0.07649326 -0.46659866 -0.16769032  0.32778874 -0.19345967  0.42149112\n",
            "  0.15838274  0.25485334  0.10807054  0.09212028 -0.09125486 -0.50012213\n",
            "  0.43751624  0.08693675 -0.08640737  0.09528667  0.28327706  0.01726186\n",
            " -0.21041869  0.7036809  -0.25625533  0.30183613 -0.04726172  0.07409142\n",
            "  0.2959413   0.82236487  0.19704935 -0.35595238  0.0551975   0.41471264\n",
            "  0.22595304 -0.21084222  0.11148269  0.184612    0.36971852 -0.46740252\n",
            " -0.1037223  -0.08121347  0.25187212 -0.2710886  -0.19861443 -0.09748028\n",
            " -0.00191269 -0.34774497 -0.15409248 -0.07119418 -0.38812512 -0.30780333\n",
            "  0.2584899  -0.6348274   0.47826     0.18411262 -0.5331831   0.04889555\n",
            "  0.41002792 -0.21343683  0.5650516  -0.44358173  0.31122702 -0.5668412\n",
            " -0.32368952 -0.3796235   0.20751789  0.24786684 -0.5930747   0.04597392\n",
            " -0.70762515 -0.13282233 -0.17215444  0.03941613 -0.6522651   0.19196135\n",
            "  0.2382251  -0.47859448  0.03585     0.27645501 -0.23736753 -0.45151642\n",
            " -0.06775681  0.09220464 -0.20719917 -0.61552215 -0.05809163 -0.49863884\n",
            "  0.07752642 -0.22794488 -0.24696891  0.03177451  0.08079931  0.75921386\n",
            " -0.46154904 -0.07104798 -0.39543533 -0.22674458  0.35664693  0.29075557\n",
            "  0.31720144 -0.25390872 -0.3349002  -0.23551281  0.04160202 -0.66788083\n",
            " -0.34330767  0.4567878  -0.01697931 -0.14861967 -0.3427209   0.12581803\n",
            "  0.18742625  0.32484815  0.14264537  0.03435263  0.01652811  0.51978046\n",
            " -0.14991936  0.19107719  0.34728193  0.01633044  0.20215532 -0.25659454\n",
            "  0.27485207 -0.4855708  -0.56515396  0.32442278  0.53604126 -0.32314265\n",
            " -0.22527066 -0.41486883 -0.11877043  0.27924696 -0.25571415 -0.09601098\n",
            " -0.24669263 -0.42694184 -0.5758278  -0.15427563 -0.2581025   0.05083287\n",
            "  0.05079059 -0.06894059 -0.29596016  0.18083614 -0.32193384 -0.06426358\n",
            " -0.7105822  -0.5069267  -0.11562006  0.6730053   0.05163027 -0.44116428\n",
            " -0.80248165 -0.06257928  0.05244934  0.359778   -0.05636612  0.5399976\n",
            " -0.3540387  -0.33139336 -0.5229212   0.1980198  -0.4017641  -0.37554276\n",
            "  0.10867137 -0.126922   -0.1267128  -0.35910013 -0.37043914  0.02080921\n",
            "  0.18561248 -0.16663297 -0.09214071 -0.00495901 -0.17562726  0.04267452\n",
            " -0.27570963 -0.24075109 -0.34672216 -0.14844425 -0.52588475 -0.38672182\n",
            "  0.2658444  -0.687833    0.5069416   0.2202397   0.19910914 -0.48221573\n",
            " -0.67294616  0.34710202  0.21276978  0.3992377  -0.03238047  0.10610462\n",
            " -0.36420348 -0.22568704  0.32705358  0.00901047  0.5453769   0.46420413\n",
            " -0.2976001   0.04432593  0.32420403 -0.07802629 -0.0980516   0.38408095\n",
            "  0.33033404  0.33809748  0.11853039  0.10131964  0.08525661  0.12359844\n",
            " -0.36848    -0.13056825  0.02763294  0.34852585  0.02529611  0.73978716\n",
            " -0.45275888 -0.50508225  0.27249926 -0.21552451 -0.14203158 -0.6326749 ]\n"
          ]
        }
      ],
      "source": [
        "# el método `get_vector` permite obtener los vectores:\n",
        "vector_love = w2v_model.wv.get_vector(\"brilhar\")\n",
        "print(vector_love)"
      ]
    },
    {
      "cell_type": "code",
      "execution_count": null,
      "metadata": {
        "colab": {
          "base_uri": "https://localhost:8080/"
        },
        "id": "dxu6EN-qgzXZ",
        "outputId": "eb90be79-1431-41ea-8363-7826f706d8b1"
      },
      "outputs": [
        {
          "output_type": "execute_result",
          "data": {
            "text/plain": [
              "[('brilhar', 0.9999999403953552),\n",
              " ('delas', 0.5710879564285278),\n",
              " ('outono', 0.5571328997612),\n",
              " ('sétimo', 0.5563425421714783),\n",
              " ('nascer', 0.5476990938186646),\n",
              " ('dourar', 0.5302286744117737),\n",
              " ('cabeleira', 0.5294758081436157),\n",
              " ('crescer', 0.5287036895751953),\n",
              " ('advinha', 0.5279120802879333),\n",
              " ('violao', 0.5210389494895935)]"
            ]
          },
          "metadata": {},
          "execution_count": 26
        }
      ],
      "source": [
        "# el método `most_similar` también permite comparar a partir de vectores\n",
        "w2v_model.wv.most_similar(vector_love)"
      ]
    },
    {
      "cell_type": "code",
      "execution_count": null,
      "metadata": {
        "colab": {
          "base_uri": "https://localhost:8080/"
        },
        "id": "AiOJRi0AgzXZ",
        "outputId": "92240038-79fa-44ac-ac3a-f3796e14a548"
      },
      "outputs": [
        {
          "output_type": "execute_result",
          "data": {
            "text/plain": [
              "[('vitrola', 0.6720453500747681),\n",
              " ('referência', 0.6707490086555481),\n",
              " ('sobrar', 0.6690906286239624),\n",
              " ('bôca', 0.6632034778594971),\n",
              " ('césar', 0.6627281904220581),\n",
              " ('joelhos', 0.6626997590065002),\n",
              " ('capeta', 0.6537484526634216),\n",
              " ('sacada', 0.6516606211662292),\n",
              " ('cela', 0.6505180597305298),\n",
              " ('ancorou', 0.6492164731025696)]"
            ]
          },
          "metadata": {},
          "execution_count": 27
        }
      ],
      "source": [
        "# Palabras que MÁS se relacionan con...:\n",
        "w2v_model.wv.most_similar(positive=[\"plantação\"], topn=10)"
      ]
    },
    {
      "cell_type": "markdown",
      "metadata": {
        "id": "_g8UVWe6lFmh"
      },
      "source": [
        "### 5 - Visualizar agrupación de vectores"
      ]
    },
    {
      "cell_type": "code",
      "execution_count": null,
      "metadata": {
        "id": "pDxEVXAivjr9"
      },
      "outputs": [],
      "source": [
        "from sklearn.decomposition import IncrementalPCA\n",
        "from sklearn.manifold import TSNE\n",
        "import numpy as np\n",
        "\n",
        "def reduce_dimensions(model, num_dimensions = 2 ):\n",
        "\n",
        "    vectors = np.asarray(model.wv.vectors)\n",
        "    labels = np.asarray(model.wv.index_to_key)\n",
        "\n",
        "    tsne = TSNE(n_components=num_dimensions, random_state=0)\n",
        "    vectors = tsne.fit_transform(vectors)\n",
        "\n",
        "    return vectors, labels"
      ]
    },
    {
      "cell_type": "code",
      "execution_count": null,
      "metadata": {
        "id": "NCCXtDpcugmd",
        "colab": {
          "base_uri": "https://localhost:8080/",
          "height": 542
        },
        "outputId": "06fc3482-4965-4fcc-f437-728bcfe51c5d"
      },
      "outputs": [
        {
          "output_type": "display_data",
          "data": {
            "text/html": [
              "<html>\n",
              "<head><meta charset=\"utf-8\" /></head>\n",
              "<body>\n",
              "    <div>            <script src=\"https://cdnjs.cloudflare.com/ajax/libs/mathjax/2.7.5/MathJax.js?config=TeX-AMS-MML_SVG\"></script><script type=\"text/javascript\">if (window.MathJax && window.MathJax.Hub && window.MathJax.Hub.Config) {window.MathJax.Hub.Config({SVG: {font: \"STIX-Web\"}});}</script>                <script type=\"text/javascript\">window.PlotlyConfig = {MathJaxConfig: 'local'};</script>\n",
              "        <script charset=\"utf-8\" src=\"https://cdn.plot.ly/plotly-2.35.2.min.js\"></script>                <div id=\"b7d34869-b565-4465-aaff-04f78dac2a99\" class=\"plotly-graph-div\" style=\"height:525px; width:100%;\"></div>            <script type=\"text/javascript\">                                    window.PLOTLYENV=window.PLOTLYENV || {};                                    if (document.getElementById(\"b7d34869-b565-4465-aaff-04f78dac2a99\")) {                    Plotly.newPlot(                        \"b7d34869-b565-4465-aaff-04f78dac2a99\",                        [{\"hovertemplate\":\"x=%{x}\\u003cbr\\u003ey=%{y}\\u003cbr\\u003etext=%{text}\\u003cextra\\u003e\\u003c\\u002fextra\\u003e\",\"legendgroup\":\"\",\"marker\":{\"color\":\"#636efa\",\"symbol\":\"circle\"},\"mode\":\"markers+text\",\"name\":\"\",\"orientation\":\"v\",\"showlegend\":false,\"text\":[\"i\",\"you\",\"the\",\"a\",\"me\",\"to\",\"and\",\"it\",\"my\",\"in\",\"on\",\"i'm\",\"that\",\"no\",\"o\",\"your\",\"que\",\"do\",\"we\",\"like\",\"up\",\"de\",\"e\",\"eu\",\"be\",\"don't\",\"for\",\"know\",\"all\",\"of\",\"get\",\"so\",\"got\",\"love\",\"is\",\"with\",\"é\",\"this\",\"oh\",\"but\",\"just\",\"what\",\"não\",\"yeah\",\"when\",\"it's\",\"baby\",\"now\",\"você\",\"they\",\"can\",\"if\",\"pra\",\"out\",\"na\",\"go\",\"she\",\"ain't\",\"girl\",\"see\",\"wanna\",\"down\",\"te\",\"make\",\"nigga\",\"let\",\"se\",\"amor\",\"one\",\"meu\",\"come\",\"back\",\"want\",\"say\",\"um\",\"time\",\"can't\",\"ya\",\"vai\",\"her\",\"right\",\"at\",\"da\",\"was\",\"cause\",\"you're\",\"take\",\"vou\",\"how\",\"never\",\"way\",\"from\",\"em\",\"shit\",\"not\",\"he\",\"have\",\"com\",\"need\",\"that's\",\"as\",\"tell\",\"man\",\"vem\",\"chorus\",\"life\",\"here\",\"feel\",\"quero\",\"about\",\"give\",\"them\",\"niggas\",\"are\",\"put\",\"why\",\"keep\",\"la\",\"i'll\",\"fuck\",\"some\",\"bitch\",\"seu\",\"more\",\"off\",\"gotta\",\"gonna\",\"mais\",\"só\",\"then\",\"money\",\"will\",\"there\",\"been\",\"tá\",\"where\",\"night\",\"or\",\"tem\",\"good\",\"too\",\"look\",\"think\",\"could\",\"still\",\"these\",\"by\",\"who\",\"hey\",\"us\",\"said\",\"ooh\",\"por\",\"day\",\"stop\",\"around\",\"world\",\"ô\",\"over\",\"sou\",\"only\",\"had\",\"lá\",\"yo\",\"uma\",\"better\",\"through\",\"ela\",\"let's\",\"away\",\"uh\",\"call\",\"real\",\"minha\",\"g\",\"show\",\"ver\",\"coração\",\"ass\",\"body\",\"tudo\",\"'cause\",\"even\",\"every\",\"boy\",\"sem\",\"really\",\"little\",\"bad\",\"new\",\"heart\",\"quem\",\"verse\",\"turn\",\"ai\",\"would\",\"mas\",\"gente\",\"bem\",\"hard\"],\"x\":[-22.36878,-22.292469,3.3870587,-4.1435027,-22.325893,-18.797995,2.9292367,-22.194857,20.329565,15.171571,8.372205,-7.863915,-21.77473,-29.516033,13.022949,20.397133,-18.460405,-25.818264,-22.378792,-8.488889,-14.757537,34.59448,12.630127,-8.968214,-28.477203,-23.871353,-14.083739,-19.24551,-7.8780165,2.967624,-18.540018,-23.235237,3.5214624,-23.023146,-9.427533,23.909405,2.3088422,-18.68844,-18.54175,-32.820286,-21.974161,-23.26702,5.316264,-12.234205,-12.932046,24.458294,-21.870478,-13.687347,-8.767653,-22.414413,-21.47222,-27.02266,2.9816723,5.44637,17.816595,-17.751108,-22.298956,-34.519615,-21.656015,-22.338219,-22.513695,-13.641768,-30.108328,-18.723545,-36.010845,-25.110626,-3.5148773,-16.444235,-13.908728,10.521047,-21.86652,-25.596867,-25.183537,-21.20838,-1.5320295,-13.640263,-25.576252,-15.113605,-0.77407575,-10.452862,-17.611767,1.4995452,23.103573,-10.530669,-11.995816,-27.7624,-18.953354,-11.099898,-18.61031,-28.67622,-12.10349,15.031423,-22.651842,-3.9229176,-23.324572,-22.583158,-19.81267,11.621645,-19.677889,-24.259119,36.426884,-23.941614,-11.724788,-1.4754127,-7.245969,-2.6847708,4.734738,-21.125515,-12.884642,-23.742676,-21.697943,2.685733,0.61118495,-8.250682,-14.895363,-21.070766,-12.341425,-21.950258,-32.24043,-24.228611,-28.45415,-2.8451838,-19.122448,-0.83081096,8.2632265,-18.593512,-20.977186,1.9105345,5.9422245,-9.2289095,-2.7699254,-30.076721,-24.420275,-14.049655,-3.7958045,19.594656,-3.6605406,-38.17957,7.6592436,-22.512217,-40.072556,5.2961082,-23.887745,-21.28948,-20.041113,-2.1521852,20.905796,-31.019772,-11.674847,-17.998787,-22.425898,-15.851899,-11.615028,-1.2717364,-29.096434,-32.84979,-11.552282,22.104977,30.342272,8.780447,-8.593787,-26.639376,16.773579,-28.232634,15.5474205,-30.095331,1.3073405,9.624364,-18.662048,-12.882293,-9.04148,-38.500183,-12.726673,20.871616,5.286721,-24.093473,-1.8859876,6.866471,6.892214,-11.6813545,0.13177815,-28.651436,-26.082094,-25.450687,-17.482195,-0.028617574,-24.061977,-3.8913488,-25.35886,20.417187,-20.949377,-2.0375965,-3.49238,-20.710905,-8.062309,-27.042263,-2.4183369,6.886108,10.63154,-16.523367],\"xaxis\":\"x\",\"y\":[16.58538,16.610952,27.216276,21.560936,16.538248,24.757294,21.312447,16.482002,48.767353,38.144367,29.164604,14.183356,16.316475,18.437754,-23.079824,48.82646,-32.274387,19.692543,16.523718,12.038378,12.679771,-22.99801,-28.801102,-55.62282,29.940573,15.570442,22.605127,24.000378,25.102007,39.857075,11.73176,30.127556,19.438644,39.37317,5.8458395,43.019917,-45.716557,17.193005,1.8894538,17.708426,17.549582,20.076107,-51.15448,-2.7651863,11.183318,13.838011,13.101791,24.400732,-46.89036,16.596718,15.359503,19.075794,-53.838966,26.569002,-29.307276,8.594922,16.508566,30.315355,13.648056,21.471767,14.731326,12.439225,-28.977879,7.261153,9.705526,14.871709,-42.070488,-29.839302,35.58832,-49.28781,12.106764,4.3294215,18.389702,24.17112,-33.83251,41.590168,16.830832,10.179009,-21.343489,18.541346,11.289674,6.2604623,-29.961292,18.787281,25.305044,25.720407,11.641634,-34.18821,19.52157,23.466232,49.508724,8.8436365,2.4482772,23.33973,30.258375,16.594534,20.976746,-30.460918,20.625715,21.309452,22.7794,25.695631,22.343187,-17.50204,-0.64614576,37.917126,27.315222,44.137566,-39.976974,25.141676,19.686472,34.535694,31.37608,44.38571,11.513702,25.475042,9.83512,-22.387033,14.797211,20.632076,-2.745538,11.183031,-43.20903,13.08196,28.794437,21.236586,21.743128,-63.106056,-54.592567,14.255128,8.922054,34.11364,31.665539,53.06597,-19.39678,8.039856,7.4889364,16.213974,-52.711926,29.135538,18.316523,10.559774,24.693758,15.695217,29.517656,31.258747,-7.538733,34.946846,-13.115944,36.238255,21.617558,2.8422062,-31.81617,23.90913,16.65904,7.4068623,32.696365,-14.493553,16.18706,-41.016624,17.32367,42.52208,-26.441145,-22.307941,-39.962242,34.35329,53.412952,-20.883512,12.93462,50.175014,-15.674555,9.961331,27.25283,-42.05684,-1.7546335,19.088516,-59.51197,-38.110085,9.622461,9.917272,-41.54508,19.97521,23.892035,47.250355,13.104953,-64.04362,19.156988,13.62945,8.5475235,14.288922,50.70685,-42.80293,-4.1342883,11.978078,-31.871172,19.193188,-49.14814,-52.009502,-48.662823,21.538483],\"yaxis\":\"y\",\"type\":\"scatter\"}],                        {\"template\":{\"data\":{\"histogram2dcontour\":[{\"type\":\"histogram2dcontour\",\"colorbar\":{\"outlinewidth\":0,\"ticks\":\"\"},\"colorscale\":[[0.0,\"#0d0887\"],[0.1111111111111111,\"#46039f\"],[0.2222222222222222,\"#7201a8\"],[0.3333333333333333,\"#9c179e\"],[0.4444444444444444,\"#bd3786\"],[0.5555555555555556,\"#d8576b\"],[0.6666666666666666,\"#ed7953\"],[0.7777777777777778,\"#fb9f3a\"],[0.8888888888888888,\"#fdca26\"],[1.0,\"#f0f921\"]]}],\"choropleth\":[{\"type\":\"choropleth\",\"colorbar\":{\"outlinewidth\":0,\"ticks\":\"\"}}],\"histogram2d\":[{\"type\":\"histogram2d\",\"colorbar\":{\"outlinewidth\":0,\"ticks\":\"\"},\"colorscale\":[[0.0,\"#0d0887\"],[0.1111111111111111,\"#46039f\"],[0.2222222222222222,\"#7201a8\"],[0.3333333333333333,\"#9c179e\"],[0.4444444444444444,\"#bd3786\"],[0.5555555555555556,\"#d8576b\"],[0.6666666666666666,\"#ed7953\"],[0.7777777777777778,\"#fb9f3a\"],[0.8888888888888888,\"#fdca26\"],[1.0,\"#f0f921\"]]}],\"heatmap\":[{\"type\":\"heatmap\",\"colorbar\":{\"outlinewidth\":0,\"ticks\":\"\"},\"colorscale\":[[0.0,\"#0d0887\"],[0.1111111111111111,\"#46039f\"],[0.2222222222222222,\"#7201a8\"],[0.3333333333333333,\"#9c179e\"],[0.4444444444444444,\"#bd3786\"],[0.5555555555555556,\"#d8576b\"],[0.6666666666666666,\"#ed7953\"],[0.7777777777777778,\"#fb9f3a\"],[0.8888888888888888,\"#fdca26\"],[1.0,\"#f0f921\"]]}],\"heatmapgl\":[{\"type\":\"heatmapgl\",\"colorbar\":{\"outlinewidth\":0,\"ticks\":\"\"},\"colorscale\":[[0.0,\"#0d0887\"],[0.1111111111111111,\"#46039f\"],[0.2222222222222222,\"#7201a8\"],[0.3333333333333333,\"#9c179e\"],[0.4444444444444444,\"#bd3786\"],[0.5555555555555556,\"#d8576b\"],[0.6666666666666666,\"#ed7953\"],[0.7777777777777778,\"#fb9f3a\"],[0.8888888888888888,\"#fdca26\"],[1.0,\"#f0f921\"]]}],\"contourcarpet\":[{\"type\":\"contourcarpet\",\"colorbar\":{\"outlinewidth\":0,\"ticks\":\"\"}}],\"contour\":[{\"type\":\"contour\",\"colorbar\":{\"outlinewidth\":0,\"ticks\":\"\"},\"colorscale\":[[0.0,\"#0d0887\"],[0.1111111111111111,\"#46039f\"],[0.2222222222222222,\"#7201a8\"],[0.3333333333333333,\"#9c179e\"],[0.4444444444444444,\"#bd3786\"],[0.5555555555555556,\"#d8576b\"],[0.6666666666666666,\"#ed7953\"],[0.7777777777777778,\"#fb9f3a\"],[0.8888888888888888,\"#fdca26\"],[1.0,\"#f0f921\"]]}],\"surface\":[{\"type\":\"surface\",\"colorbar\":{\"outlinewidth\":0,\"ticks\":\"\"},\"colorscale\":[[0.0,\"#0d0887\"],[0.1111111111111111,\"#46039f\"],[0.2222222222222222,\"#7201a8\"],[0.3333333333333333,\"#9c179e\"],[0.4444444444444444,\"#bd3786\"],[0.5555555555555556,\"#d8576b\"],[0.6666666666666666,\"#ed7953\"],[0.7777777777777778,\"#fb9f3a\"],[0.8888888888888888,\"#fdca26\"],[1.0,\"#f0f921\"]]}],\"mesh3d\":[{\"type\":\"mesh3d\",\"colorbar\":{\"outlinewidth\":0,\"ticks\":\"\"}}],\"scatter\":[{\"fillpattern\":{\"fillmode\":\"overlay\",\"size\":10,\"solidity\":0.2},\"type\":\"scatter\"}],\"parcoords\":[{\"type\":\"parcoords\",\"line\":{\"colorbar\":{\"outlinewidth\":0,\"ticks\":\"\"}}}],\"scatterpolargl\":[{\"type\":\"scatterpolargl\",\"marker\":{\"colorbar\":{\"outlinewidth\":0,\"ticks\":\"\"}}}],\"bar\":[{\"error_x\":{\"color\":\"#2a3f5f\"},\"error_y\":{\"color\":\"#2a3f5f\"},\"marker\":{\"line\":{\"color\":\"#E5ECF6\",\"width\":0.5},\"pattern\":{\"fillmode\":\"overlay\",\"size\":10,\"solidity\":0.2}},\"type\":\"bar\"}],\"scattergeo\":[{\"type\":\"scattergeo\",\"marker\":{\"colorbar\":{\"outlinewidth\":0,\"ticks\":\"\"}}}],\"scatterpolar\":[{\"type\":\"scatterpolar\",\"marker\":{\"colorbar\":{\"outlinewidth\":0,\"ticks\":\"\"}}}],\"histogram\":[{\"marker\":{\"pattern\":{\"fillmode\":\"overlay\",\"size\":10,\"solidity\":0.2}},\"type\":\"histogram\"}],\"scattergl\":[{\"type\":\"scattergl\",\"marker\":{\"colorbar\":{\"outlinewidth\":0,\"ticks\":\"\"}}}],\"scatter3d\":[{\"type\":\"scatter3d\",\"line\":{\"colorbar\":{\"outlinewidth\":0,\"ticks\":\"\"}},\"marker\":{\"colorbar\":{\"outlinewidth\":0,\"ticks\":\"\"}}}],\"scattermapbox\":[{\"type\":\"scattermapbox\",\"marker\":{\"colorbar\":{\"outlinewidth\":0,\"ticks\":\"\"}}}],\"scatterternary\":[{\"type\":\"scatterternary\",\"marker\":{\"colorbar\":{\"outlinewidth\":0,\"ticks\":\"\"}}}],\"scattercarpet\":[{\"type\":\"scattercarpet\",\"marker\":{\"colorbar\":{\"outlinewidth\":0,\"ticks\":\"\"}}}],\"carpet\":[{\"aaxis\":{\"endlinecolor\":\"#2a3f5f\",\"gridcolor\":\"white\",\"linecolor\":\"white\",\"minorgridcolor\":\"white\",\"startlinecolor\":\"#2a3f5f\"},\"baxis\":{\"endlinecolor\":\"#2a3f5f\",\"gridcolor\":\"white\",\"linecolor\":\"white\",\"minorgridcolor\":\"white\",\"startlinecolor\":\"#2a3f5f\"},\"type\":\"carpet\"}],\"table\":[{\"cells\":{\"fill\":{\"color\":\"#EBF0F8\"},\"line\":{\"color\":\"white\"}},\"header\":{\"fill\":{\"color\":\"#C8D4E3\"},\"line\":{\"color\":\"white\"}},\"type\":\"table\"}],\"barpolar\":[{\"marker\":{\"line\":{\"color\":\"#E5ECF6\",\"width\":0.5},\"pattern\":{\"fillmode\":\"overlay\",\"size\":10,\"solidity\":0.2}},\"type\":\"barpolar\"}],\"pie\":[{\"automargin\":true,\"type\":\"pie\"}]},\"layout\":{\"autotypenumbers\":\"strict\",\"colorway\":[\"#636efa\",\"#EF553B\",\"#00cc96\",\"#ab63fa\",\"#FFA15A\",\"#19d3f3\",\"#FF6692\",\"#B6E880\",\"#FF97FF\",\"#FECB52\"],\"font\":{\"color\":\"#2a3f5f\"},\"hovermode\":\"closest\",\"hoverlabel\":{\"align\":\"left\"},\"paper_bgcolor\":\"white\",\"plot_bgcolor\":\"#E5ECF6\",\"polar\":{\"bgcolor\":\"#E5ECF6\",\"angularaxis\":{\"gridcolor\":\"white\",\"linecolor\":\"white\",\"ticks\":\"\"},\"radialaxis\":{\"gridcolor\":\"white\",\"linecolor\":\"white\",\"ticks\":\"\"}},\"ternary\":{\"bgcolor\":\"#E5ECF6\",\"aaxis\":{\"gridcolor\":\"white\",\"linecolor\":\"white\",\"ticks\":\"\"},\"baxis\":{\"gridcolor\":\"white\",\"linecolor\":\"white\",\"ticks\":\"\"},\"caxis\":{\"gridcolor\":\"white\",\"linecolor\":\"white\",\"ticks\":\"\"}},\"coloraxis\":{\"colorbar\":{\"outlinewidth\":0,\"ticks\":\"\"}},\"colorscale\":{\"sequential\":[[0.0,\"#0d0887\"],[0.1111111111111111,\"#46039f\"],[0.2222222222222222,\"#7201a8\"],[0.3333333333333333,\"#9c179e\"],[0.4444444444444444,\"#bd3786\"],[0.5555555555555556,\"#d8576b\"],[0.6666666666666666,\"#ed7953\"],[0.7777777777777778,\"#fb9f3a\"],[0.8888888888888888,\"#fdca26\"],[1.0,\"#f0f921\"]],\"sequentialminus\":[[0.0,\"#0d0887\"],[0.1111111111111111,\"#46039f\"],[0.2222222222222222,\"#7201a8\"],[0.3333333333333333,\"#9c179e\"],[0.4444444444444444,\"#bd3786\"],[0.5555555555555556,\"#d8576b\"],[0.6666666666666666,\"#ed7953\"],[0.7777777777777778,\"#fb9f3a\"],[0.8888888888888888,\"#fdca26\"],[1.0,\"#f0f921\"]],\"diverging\":[[0,\"#8e0152\"],[0.1,\"#c51b7d\"],[0.2,\"#de77ae\"],[0.3,\"#f1b6da\"],[0.4,\"#fde0ef\"],[0.5,\"#f7f7f7\"],[0.6,\"#e6f5d0\"],[0.7,\"#b8e186\"],[0.8,\"#7fbc41\"],[0.9,\"#4d9221\"],[1,\"#276419\"]]},\"xaxis\":{\"gridcolor\":\"white\",\"linecolor\":\"white\",\"ticks\":\"\",\"title\":{\"standoff\":15},\"zerolinecolor\":\"white\",\"automargin\":true,\"zerolinewidth\":2},\"yaxis\":{\"gridcolor\":\"white\",\"linecolor\":\"white\",\"ticks\":\"\",\"title\":{\"standoff\":15},\"zerolinecolor\":\"white\",\"automargin\":true,\"zerolinewidth\":2},\"scene\":{\"xaxis\":{\"backgroundcolor\":\"#E5ECF6\",\"gridcolor\":\"white\",\"linecolor\":\"white\",\"showbackground\":true,\"ticks\":\"\",\"zerolinecolor\":\"white\",\"gridwidth\":2},\"yaxis\":{\"backgroundcolor\":\"#E5ECF6\",\"gridcolor\":\"white\",\"linecolor\":\"white\",\"showbackground\":true,\"ticks\":\"\",\"zerolinecolor\":\"white\",\"gridwidth\":2},\"zaxis\":{\"backgroundcolor\":\"#E5ECF6\",\"gridcolor\":\"white\",\"linecolor\":\"white\",\"showbackground\":true,\"ticks\":\"\",\"zerolinecolor\":\"white\",\"gridwidth\":2}},\"shapedefaults\":{\"line\":{\"color\":\"#2a3f5f\"}},\"annotationdefaults\":{\"arrowcolor\":\"#2a3f5f\",\"arrowhead\":0,\"arrowwidth\":1},\"geo\":{\"bgcolor\":\"white\",\"landcolor\":\"#E5ECF6\",\"subunitcolor\":\"white\",\"showland\":true,\"showlakes\":true,\"lakecolor\":\"white\"},\"title\":{\"x\":0.05},\"mapbox\":{\"style\":\"light\"}}},\"xaxis\":{\"anchor\":\"y\",\"domain\":[0.0,1.0],\"title\":{\"text\":\"x\"}},\"yaxis\":{\"anchor\":\"x\",\"domain\":[0.0,1.0],\"title\":{\"text\":\"y\"}},\"legend\":{\"tracegroupgap\":0},\"margin\":{\"t\":60}},                        {\"responsive\": true}                    ).then(function(){\n",
              "                            \n",
              "var gd = document.getElementById('b7d34869-b565-4465-aaff-04f78dac2a99');\n",
              "var x = new MutationObserver(function (mutations, observer) {{\n",
              "        var display = window.getComputedStyle(gd).display;\n",
              "        if (!display || display === 'none') {{\n",
              "            console.log([gd, 'removed!']);\n",
              "            Plotly.purge(gd);\n",
              "            observer.disconnect();\n",
              "        }}\n",
              "}});\n",
              "\n",
              "// Listen for the removal of the full notebook cells\n",
              "var notebookContainer = gd.closest('#notebook-container');\n",
              "if (notebookContainer) {{\n",
              "    x.observe(notebookContainer, {childList: true});\n",
              "}}\n",
              "\n",
              "// Listen for the clearing of the current output cell\n",
              "var outputEl = gd.closest('.output');\n",
              "if (outputEl) {{\n",
              "    x.observe(outputEl, {childList: true});\n",
              "}}\n",
              "\n",
              "                        })                };                            </script>        </div>\n",
              "</body>\n",
              "</html>"
            ]
          },
          "metadata": {}
        }
      ],
      "source": [
        "# Graficar los embedddings en 2D\n",
        "import plotly.graph_objects as go\n",
        "import plotly.express as px\n",
        "\n",
        "vecs, labels = reduce_dimensions(w2v_model)\n",
        "\n",
        "MAX_WORDS=200\n",
        "fig = px.scatter(x=vecs[:MAX_WORDS,0], y=vecs[:MAX_WORDS,1], text=labels[:MAX_WORDS])\n",
        "fig.show(renderer=\"colab\") # esto para plotly en colab"
      ]
    },
    {
      "cell_type": "code",
      "execution_count": null,
      "metadata": {
        "colab": {
          "base_uri": "https://localhost:8080/",
          "height": 542
        },
        "id": "3IHpLVNugzXZ",
        "outputId": "432ed1b6-1c8d-4b55-8df8-1682f0065ace"
      },
      "outputs": [
        {
          "output_type": "display_data",
          "data": {
            "text/html": [
              "<html>\n",
              "<head><meta charset=\"utf-8\" /></head>\n",
              "<body>\n",
              "    <div>            <script src=\"https://cdnjs.cloudflare.com/ajax/libs/mathjax/2.7.5/MathJax.js?config=TeX-AMS-MML_SVG\"></script><script type=\"text/javascript\">if (window.MathJax && window.MathJax.Hub && window.MathJax.Hub.Config) {window.MathJax.Hub.Config({SVG: {font: \"STIX-Web\"}});}</script>                <script type=\"text/javascript\">window.PlotlyConfig = {MathJaxConfig: 'local'};</script>\n",
              "        <script charset=\"utf-8\" src=\"https://cdn.plot.ly/plotly-2.35.2.min.js\"></script>                <div id=\"1cbb954e-5bd2-43a6-83ce-3daf2414c1c1\" class=\"plotly-graph-div\" style=\"height:525px; width:100%;\"></div>            <script type=\"text/javascript\">                                    window.PLOTLYENV=window.PLOTLYENV || {};                                    if (document.getElementById(\"1cbb954e-5bd2-43a6-83ce-3daf2414c1c1\")) {                    Plotly.newPlot(                        \"1cbb954e-5bd2-43a6-83ce-3daf2414c1c1\",                        [{\"hovertemplate\":\"x=%{x}\\u003cbr\\u003ey=%{y}\\u003cbr\\u003ez=%{z}\\u003cbr\\u003etext=%{text}\\u003cextra\\u003e\\u003c\\u002fextra\\u003e\",\"legendgroup\":\"\",\"marker\":{\"color\":\"#636efa\",\"symbol\":\"circle\",\"size\":2},\"mode\":\"markers+text\",\"name\":\"\",\"scene\":\"scene\",\"showlegend\":false,\"text\":[\"i\",\"you\",\"the\",\"a\",\"me\",\"to\",\"and\",\"it\",\"my\",\"in\",\"on\",\"i'm\",\"that\",\"no\",\"o\",\"your\",\"que\",\"do\",\"we\",\"like\",\"up\",\"de\",\"e\",\"eu\",\"be\",\"don't\",\"for\",\"know\",\"all\",\"of\",\"get\",\"so\",\"got\",\"love\",\"is\",\"with\",\"é\",\"this\",\"oh\",\"but\",\"just\",\"what\",\"não\",\"yeah\",\"when\",\"it's\",\"baby\",\"now\",\"você\",\"they\",\"can\",\"if\",\"pra\",\"out\",\"na\",\"go\",\"she\",\"ain't\",\"girl\",\"see\",\"wanna\",\"down\",\"te\",\"make\",\"nigga\",\"let\",\"se\",\"amor\",\"one\",\"meu\",\"come\",\"back\",\"want\",\"say\",\"um\",\"time\",\"can't\",\"ya\",\"vai\",\"her\",\"right\",\"at\",\"da\",\"was\",\"cause\",\"you're\",\"take\",\"vou\",\"how\",\"never\",\"way\",\"from\",\"em\",\"shit\",\"not\",\"he\",\"have\",\"com\",\"need\",\"that's\",\"as\",\"tell\",\"man\",\"vem\",\"chorus\",\"life\",\"here\",\"feel\",\"quero\",\"about\",\"give\",\"them\",\"niggas\",\"are\",\"put\",\"why\",\"keep\",\"la\",\"i'll\",\"fuck\",\"some\",\"bitch\",\"seu\",\"more\",\"off\",\"gotta\",\"gonna\",\"mais\",\"só\",\"then\",\"money\",\"will\",\"there\",\"been\",\"tá\",\"where\",\"night\",\"or\",\"tem\",\"good\",\"too\",\"look\",\"think\",\"could\",\"still\",\"these\",\"by\",\"who\",\"hey\",\"us\",\"said\",\"ooh\",\"por\",\"day\",\"stop\",\"around\",\"world\",\"ô\",\"over\",\"sou\",\"only\",\"had\",\"lá\",\"yo\",\"uma\",\"better\",\"through\",\"ela\",\"let's\",\"away\",\"uh\",\"call\",\"real\",\"minha\",\"g\",\"show\",\"ver\",\"coração\",\"ass\",\"body\",\"tudo\",\"'cause\",\"even\",\"every\",\"boy\",\"sem\",\"really\",\"little\",\"bad\",\"new\",\"heart\",\"quem\",\"verse\",\"turn\",\"ai\",\"would\",\"mas\",\"gente\",\"bem\",\"hard\"],\"x\":[-2.4848342,-3.102508,-27.970827,-12.993206,-4.6146073,-18.002123,-6.5470324,-3.60273,-35.77135,-27.178234,-31.934868,-8.454388,-8.522423,-10.409232,13.364038,-34.422848,32.68785,-6.416277,-1.1160268,-1.9238698,-11.08649,26.051746,16.092213,53.743168,-29.135895,-8.108751,-15.890895,-9.132131,-15.766326,-34.387768,-24.258959,-23.933088,-44.715717,-37.840466,-4.1387095,-27.251644,42.637512,-6.661722,3.4975367,-52.786274,-6.427072,-10.529431,49.492134,6.001508,-26.413723,3.2019756,-2.5954177,-12.551756,45.021652,-2.3921914,-13.654017,-13.0786085,30.540352,-26.144089,15.238453,8.871135,-2.6293256,-60.018578,-2.88269,-15.146527,4.5955358,-12.54243,4.7438946,-1.895318,-5.6336403,-5.806148,55.69029,28.995338,-29.260736,31.392683,-0.7148294,1.0343899,-11.277129,-13.952912,29.898653,-18.259949,-13.481258,-3.491365,18.081726,-10.560665,-4.491773,3.375896,8.141949,-10.17197,-18.932833,-4.4564004,-10.883336,33.384823,-9.405075,-11.82116,-53.268566,-16.711676,-4.409809,-22.097555,-24.885723,0.13935198,-10.0449915,10.178059,-12.543736,-13.5906,-25.669012,-24.590439,-14.650673,18.987928,-7.6093893,-19.557388,-18.332024,-44.277294,33.750656,-14.254248,-9.699556,-37.91486,-26.391972,-34.139366,-10.90975,-34.30543,-4.756759,10.613744,-16.08886,-16.261776,0.56965816,0.1833229,24.480003,-10.644744,-30.29316,-6.5962386,-18.535719,66.131676,62.676888,-18.157963,-17.743673,-37.06713,-29.013485,-10.26876,19.872744,-17.293928,1.4065415,-21.418293,47.376755,-25.89674,-27.895916,0.25857782,-14.924464,-13.327051,-0.476389,-18.57006,1.4577721,-10.157816,9.047942,-33.0986,-5.707324,1.8205718,12.705582,-44.374516,-17.489668,-29.818544,-15.386509,13.903214,7.671277,23.045034,-33.416565,-53.196762,15.443759,-0.1809001,39.765625,-39.583885,-52.886734,19.932667,-5.7161593,-52.725605,8.087608,3.4275258,-9.110946,38.455254,6.5452876,-3.496131,34.537968,23.89974,-4.320794,-3.661257,32.565502,-9.279435,-16.983574,-40.296783,2.7080393,37.54113,-5.6810875,0.5866872,18.517046,-3.136323,-44.333435,41.531693,6.93777,-5.0859814,25.268698,-15.699757,49.347748,44.751926,56.69477,-19.604826],\"y\":[2.4880915,2.3753989,-4.0040164,-39.793518,1.9827015,27.471352,8.209191,1.7002621,-12.473088,11.019151,-11.286698,-46.509098,-10.922026,-10.737931,-11.664108,-11.616797,15.189723,19.894026,1.5634348,16.075684,18.80853,42.662567,35.4234,8.638264,12.1050005,13.760898,-1.4359535,-3.7212474,-3.4746,-2.7896245,-47.653984,7.9156365,-21.337133,22.071962,44.092056,-39.951424,-24.744257,40.633743,-5.1815567,-17.013922,2.6881232,-0.86385494,-4.43762,-21.772762,49.025715,-54.276054,-8.264559,-51.088776,-17.539312,4.337822,26.515106,14.479622,25.903347,-0.2136946,-13.004203,44.780396,1.4157952,-17.509563,-4.8880835,29.628092,45.08989,23.142508,24.725414,12.272179,-54.18447,6.7390695,-21.65131,0.9094736,8.211086,2.0236084,-3.7058024,40.54234,12.297806,4.5199523,-17.987495,27.40457,26.889511,36.379513,31.30952,0.08601716,29.804594,5.3528066,2.792335,-8.725429,-11.595767,-1.9627917,19.291668,24.492975,18.620832,3.8231866,-10.828755,-52.675014,51.30255,21.618439,10.795184,3.2304256,15.386859,-18.127718,15.366079,-18.539675,34.923107,-4.8378863,22.859661,24.067572,-31.376368,4.95055,52.812767,17.220259,19.681705,-2.8974264,11.015584,-24.526072,-28.980717,-11.605117,24.431438,-10.248054,-15.845289,3.0602741,46.51403,-35.37029,-30.688877,13.210867,-12.967899,7.2347355,-8.381781,21.303246,16.046425,-0.43726125,-12.595102,13.505585,-48.35434,3.0178316,7.5137906,57.027184,-34.871643,-45.610676,44.63325,43.87247,-15.772125,24.059732,20.589657,23.418524,-0.09648309,26.424389,-0.9292309,-28.629902,-12.811036,1.5945231,-18.70088,-1.1473566,-7.060009,-8.171618,-21.58148,22.329576,1.0628451,-44.539467,-30.965565,7.6321206,-19.931858,-2.1207926,-22.272005,3.6288967,24.553911,14.268698,-16.081182,1.5561205,10.729405,-31.813465,25.053991,-9.220386,29.799109,36.466785,0.5581056,2.6658325,-36.30402,12.329947,17.202677,-13.168057,10.964349,-12.526026,-31.773525,-0.34228423,0.64441127,31.387035,7.107161,-34.645096,11.019285,3.2413802,-24.550219,-6.3458786,10.99315,-24.987457,-37.185234,-51.974804,-32.712215,16.469488,-2.645369,-20.833414,-22.884954,26.177572],\"z\":[-37.035576,-37.157322,20.348333,45.830418,-36.6009,-29.041044,22.29945,-38.96768,44.81414,30.78876,33.722385,-33.51996,-3.0654185,-42.805878,24.378174,46.825943,-34.15539,-28.576166,-37.592804,39.36949,37.07738,15.802,-8.162028,27.727268,-40.260452,-43.800278,-17.712284,-17.713673,-1.3517247,9.276964,-25.705915,-21.214956,40.70983,-16.050213,-13.076637,14.806493,-23.74292,-14.5323305,-30.344894,-26.307743,-34.135494,-32.969322,-6.556004,-35.091537,19.664942,16.447294,-35.708015,-28.790588,29.935564,-36.815815,-35.017815,-42.101154,31.951353,19.931261,-28.775406,24.896698,-34.95756,15.305243,-39.67428,-49.225723,16.533709,46.541275,-46.518436,-25.68891,3.428773,-49.181698,7.9872184,-50.81997,-11.0492115,15.587331,-36.540447,39.627743,-18.47217,-22.581108,31.215649,-19.931309,-39.47756,1.530865,28.269287,49.189705,-19.320251,14.568675,-20.095316,-17.842598,-19.791384,-47.938354,30.919937,17.57963,-21.124231,-43.762512,-12.403886,-6.790801,14.799038,12.410178,-21.00836,-35.402752,-19.218824,-3.8209176,-18.464836,-40.144463,-9.713022,-31.437675,-12.194088,33.604427,-28.759035,1.031882,-19.721605,-20.792217,32.41977,-29.731386,-31.638855,0.94261587,0.20222826,-8.73635,35.772327,-28.411419,52.992714,-47.43162,-15.818406,-8.7486925,-47.38515,1.4895887,41.22557,-11.791982,33.76347,-21.168377,-23.1051,-0.9721025,16.781965,31.57918,19.78832,-39.19538,-27.65601,13.1517,0.10911512,-0.8344346,28.542913,8.319858,-18.6226,-30.756514,-47.41067,47.94355,-29.64597,-32.80584,-25.287697,2.4330492,12.873306,-34.513508,-38.841095,-13.682481,-26.172672,-26.11583,-14.538519,21.71072,-46.120827,12.489273,-22.354431,33.506107,49.726204,18.923798,-35.94803,-31.5182,4.0517917,-36.867832,-31.7348,-37.858932,-8.529614,-11.987021,-24.394451,-15.851184,-25.430836,-33.38501,-13.384217,-21.647621,0.6872135,-31.441515,29.839308,10.669389,43.577892,55.9138,7.043464,-39.126644,-35.85019,-13.111552,9.87602,-8.065604,-32.627075,-9.894955,49.60315,15.774965,5.7872844,19.464783,-23.45158,-24.940117,26.996328,-42.741554,10.3834915,-15.644952,-4.541633,-25.264128],\"type\":\"scatter3d\"}],                        {\"template\":{\"data\":{\"histogram2dcontour\":[{\"type\":\"histogram2dcontour\",\"colorbar\":{\"outlinewidth\":0,\"ticks\":\"\"},\"colorscale\":[[0.0,\"#0d0887\"],[0.1111111111111111,\"#46039f\"],[0.2222222222222222,\"#7201a8\"],[0.3333333333333333,\"#9c179e\"],[0.4444444444444444,\"#bd3786\"],[0.5555555555555556,\"#d8576b\"],[0.6666666666666666,\"#ed7953\"],[0.7777777777777778,\"#fb9f3a\"],[0.8888888888888888,\"#fdca26\"],[1.0,\"#f0f921\"]]}],\"choropleth\":[{\"type\":\"choropleth\",\"colorbar\":{\"outlinewidth\":0,\"ticks\":\"\"}}],\"histogram2d\":[{\"type\":\"histogram2d\",\"colorbar\":{\"outlinewidth\":0,\"ticks\":\"\"},\"colorscale\":[[0.0,\"#0d0887\"],[0.1111111111111111,\"#46039f\"],[0.2222222222222222,\"#7201a8\"],[0.3333333333333333,\"#9c179e\"],[0.4444444444444444,\"#bd3786\"],[0.5555555555555556,\"#d8576b\"],[0.6666666666666666,\"#ed7953\"],[0.7777777777777778,\"#fb9f3a\"],[0.8888888888888888,\"#fdca26\"],[1.0,\"#f0f921\"]]}],\"heatmap\":[{\"type\":\"heatmap\",\"colorbar\":{\"outlinewidth\":0,\"ticks\":\"\"},\"colorscale\":[[0.0,\"#0d0887\"],[0.1111111111111111,\"#46039f\"],[0.2222222222222222,\"#7201a8\"],[0.3333333333333333,\"#9c179e\"],[0.4444444444444444,\"#bd3786\"],[0.5555555555555556,\"#d8576b\"],[0.6666666666666666,\"#ed7953\"],[0.7777777777777778,\"#fb9f3a\"],[0.8888888888888888,\"#fdca26\"],[1.0,\"#f0f921\"]]}],\"heatmapgl\":[{\"type\":\"heatmapgl\",\"colorbar\":{\"outlinewidth\":0,\"ticks\":\"\"},\"colorscale\":[[0.0,\"#0d0887\"],[0.1111111111111111,\"#46039f\"],[0.2222222222222222,\"#7201a8\"],[0.3333333333333333,\"#9c179e\"],[0.4444444444444444,\"#bd3786\"],[0.5555555555555556,\"#d8576b\"],[0.6666666666666666,\"#ed7953\"],[0.7777777777777778,\"#fb9f3a\"],[0.8888888888888888,\"#fdca26\"],[1.0,\"#f0f921\"]]}],\"contourcarpet\":[{\"type\":\"contourcarpet\",\"colorbar\":{\"outlinewidth\":0,\"ticks\":\"\"}}],\"contour\":[{\"type\":\"contour\",\"colorbar\":{\"outlinewidth\":0,\"ticks\":\"\"},\"colorscale\":[[0.0,\"#0d0887\"],[0.1111111111111111,\"#46039f\"],[0.2222222222222222,\"#7201a8\"],[0.3333333333333333,\"#9c179e\"],[0.4444444444444444,\"#bd3786\"],[0.5555555555555556,\"#d8576b\"],[0.6666666666666666,\"#ed7953\"],[0.7777777777777778,\"#fb9f3a\"],[0.8888888888888888,\"#fdca26\"],[1.0,\"#f0f921\"]]}],\"surface\":[{\"type\":\"surface\",\"colorbar\":{\"outlinewidth\":0,\"ticks\":\"\"},\"colorscale\":[[0.0,\"#0d0887\"],[0.1111111111111111,\"#46039f\"],[0.2222222222222222,\"#7201a8\"],[0.3333333333333333,\"#9c179e\"],[0.4444444444444444,\"#bd3786\"],[0.5555555555555556,\"#d8576b\"],[0.6666666666666666,\"#ed7953\"],[0.7777777777777778,\"#fb9f3a\"],[0.8888888888888888,\"#fdca26\"],[1.0,\"#f0f921\"]]}],\"mesh3d\":[{\"type\":\"mesh3d\",\"colorbar\":{\"outlinewidth\":0,\"ticks\":\"\"}}],\"scatter\":[{\"fillpattern\":{\"fillmode\":\"overlay\",\"size\":10,\"solidity\":0.2},\"type\":\"scatter\"}],\"parcoords\":[{\"type\":\"parcoords\",\"line\":{\"colorbar\":{\"outlinewidth\":0,\"ticks\":\"\"}}}],\"scatterpolargl\":[{\"type\":\"scatterpolargl\",\"marker\":{\"colorbar\":{\"outlinewidth\":0,\"ticks\":\"\"}}}],\"bar\":[{\"error_x\":{\"color\":\"#2a3f5f\"},\"error_y\":{\"color\":\"#2a3f5f\"},\"marker\":{\"line\":{\"color\":\"#E5ECF6\",\"width\":0.5},\"pattern\":{\"fillmode\":\"overlay\",\"size\":10,\"solidity\":0.2}},\"type\":\"bar\"}],\"scattergeo\":[{\"type\":\"scattergeo\",\"marker\":{\"colorbar\":{\"outlinewidth\":0,\"ticks\":\"\"}}}],\"scatterpolar\":[{\"type\":\"scatterpolar\",\"marker\":{\"colorbar\":{\"outlinewidth\":0,\"ticks\":\"\"}}}],\"histogram\":[{\"marker\":{\"pattern\":{\"fillmode\":\"overlay\",\"size\":10,\"solidity\":0.2}},\"type\":\"histogram\"}],\"scattergl\":[{\"type\":\"scattergl\",\"marker\":{\"colorbar\":{\"outlinewidth\":0,\"ticks\":\"\"}}}],\"scatter3d\":[{\"type\":\"scatter3d\",\"line\":{\"colorbar\":{\"outlinewidth\":0,\"ticks\":\"\"}},\"marker\":{\"colorbar\":{\"outlinewidth\":0,\"ticks\":\"\"}}}],\"scattermapbox\":[{\"type\":\"scattermapbox\",\"marker\":{\"colorbar\":{\"outlinewidth\":0,\"ticks\":\"\"}}}],\"scatterternary\":[{\"type\":\"scatterternary\",\"marker\":{\"colorbar\":{\"outlinewidth\":0,\"ticks\":\"\"}}}],\"scattercarpet\":[{\"type\":\"scattercarpet\",\"marker\":{\"colorbar\":{\"outlinewidth\":0,\"ticks\":\"\"}}}],\"carpet\":[{\"aaxis\":{\"endlinecolor\":\"#2a3f5f\",\"gridcolor\":\"white\",\"linecolor\":\"white\",\"minorgridcolor\":\"white\",\"startlinecolor\":\"#2a3f5f\"},\"baxis\":{\"endlinecolor\":\"#2a3f5f\",\"gridcolor\":\"white\",\"linecolor\":\"white\",\"minorgridcolor\":\"white\",\"startlinecolor\":\"#2a3f5f\"},\"type\":\"carpet\"}],\"table\":[{\"cells\":{\"fill\":{\"color\":\"#EBF0F8\"},\"line\":{\"color\":\"white\"}},\"header\":{\"fill\":{\"color\":\"#C8D4E3\"},\"line\":{\"color\":\"white\"}},\"type\":\"table\"}],\"barpolar\":[{\"marker\":{\"line\":{\"color\":\"#E5ECF6\",\"width\":0.5},\"pattern\":{\"fillmode\":\"overlay\",\"size\":10,\"solidity\":0.2}},\"type\":\"barpolar\"}],\"pie\":[{\"automargin\":true,\"type\":\"pie\"}]},\"layout\":{\"autotypenumbers\":\"strict\",\"colorway\":[\"#636efa\",\"#EF553B\",\"#00cc96\",\"#ab63fa\",\"#FFA15A\",\"#19d3f3\",\"#FF6692\",\"#B6E880\",\"#FF97FF\",\"#FECB52\"],\"font\":{\"color\":\"#2a3f5f\"},\"hovermode\":\"closest\",\"hoverlabel\":{\"align\":\"left\"},\"paper_bgcolor\":\"white\",\"plot_bgcolor\":\"#E5ECF6\",\"polar\":{\"bgcolor\":\"#E5ECF6\",\"angularaxis\":{\"gridcolor\":\"white\",\"linecolor\":\"white\",\"ticks\":\"\"},\"radialaxis\":{\"gridcolor\":\"white\",\"linecolor\":\"white\",\"ticks\":\"\"}},\"ternary\":{\"bgcolor\":\"#E5ECF6\",\"aaxis\":{\"gridcolor\":\"white\",\"linecolor\":\"white\",\"ticks\":\"\"},\"baxis\":{\"gridcolor\":\"white\",\"linecolor\":\"white\",\"ticks\":\"\"},\"caxis\":{\"gridcolor\":\"white\",\"linecolor\":\"white\",\"ticks\":\"\"}},\"coloraxis\":{\"colorbar\":{\"outlinewidth\":0,\"ticks\":\"\"}},\"colorscale\":{\"sequential\":[[0.0,\"#0d0887\"],[0.1111111111111111,\"#46039f\"],[0.2222222222222222,\"#7201a8\"],[0.3333333333333333,\"#9c179e\"],[0.4444444444444444,\"#bd3786\"],[0.5555555555555556,\"#d8576b\"],[0.6666666666666666,\"#ed7953\"],[0.7777777777777778,\"#fb9f3a\"],[0.8888888888888888,\"#fdca26\"],[1.0,\"#f0f921\"]],\"sequentialminus\":[[0.0,\"#0d0887\"],[0.1111111111111111,\"#46039f\"],[0.2222222222222222,\"#7201a8\"],[0.3333333333333333,\"#9c179e\"],[0.4444444444444444,\"#bd3786\"],[0.5555555555555556,\"#d8576b\"],[0.6666666666666666,\"#ed7953\"],[0.7777777777777778,\"#fb9f3a\"],[0.8888888888888888,\"#fdca26\"],[1.0,\"#f0f921\"]],\"diverging\":[[0,\"#8e0152\"],[0.1,\"#c51b7d\"],[0.2,\"#de77ae\"],[0.3,\"#f1b6da\"],[0.4,\"#fde0ef\"],[0.5,\"#f7f7f7\"],[0.6,\"#e6f5d0\"],[0.7,\"#b8e186\"],[0.8,\"#7fbc41\"],[0.9,\"#4d9221\"],[1,\"#276419\"]]},\"xaxis\":{\"gridcolor\":\"white\",\"linecolor\":\"white\",\"ticks\":\"\",\"title\":{\"standoff\":15},\"zerolinecolor\":\"white\",\"automargin\":true,\"zerolinewidth\":2},\"yaxis\":{\"gridcolor\":\"white\",\"linecolor\":\"white\",\"ticks\":\"\",\"title\":{\"standoff\":15},\"zerolinecolor\":\"white\",\"automargin\":true,\"zerolinewidth\":2},\"scene\":{\"xaxis\":{\"backgroundcolor\":\"#E5ECF6\",\"gridcolor\":\"white\",\"linecolor\":\"white\",\"showbackground\":true,\"ticks\":\"\",\"zerolinecolor\":\"white\",\"gridwidth\":2},\"yaxis\":{\"backgroundcolor\":\"#E5ECF6\",\"gridcolor\":\"white\",\"linecolor\":\"white\",\"showbackground\":true,\"ticks\":\"\",\"zerolinecolor\":\"white\",\"gridwidth\":2},\"zaxis\":{\"backgroundcolor\":\"#E5ECF6\",\"gridcolor\":\"white\",\"linecolor\":\"white\",\"showbackground\":true,\"ticks\":\"\",\"zerolinecolor\":\"white\",\"gridwidth\":2}},\"shapedefaults\":{\"line\":{\"color\":\"#2a3f5f\"}},\"annotationdefaults\":{\"arrowcolor\":\"#2a3f5f\",\"arrowhead\":0,\"arrowwidth\":1},\"geo\":{\"bgcolor\":\"white\",\"landcolor\":\"#E5ECF6\",\"subunitcolor\":\"white\",\"showland\":true,\"showlakes\":true,\"lakecolor\":\"white\"},\"title\":{\"x\":0.05},\"mapbox\":{\"style\":\"light\"}}},\"scene\":{\"domain\":{\"x\":[0.0,1.0],\"y\":[0.0,1.0]},\"xaxis\":{\"title\":{\"text\":\"x\"}},\"yaxis\":{\"title\":{\"text\":\"y\"}},\"zaxis\":{\"title\":{\"text\":\"z\"}}},\"legend\":{\"tracegroupgap\":0},\"margin\":{\"t\":60}},                        {\"responsive\": true}                    ).then(function(){\n",
              "                            \n",
              "var gd = document.getElementById('1cbb954e-5bd2-43a6-83ce-3daf2414c1c1');\n",
              "var x = new MutationObserver(function (mutations, observer) {{\n",
              "        var display = window.getComputedStyle(gd).display;\n",
              "        if (!display || display === 'none') {{\n",
              "            console.log([gd, 'removed!']);\n",
              "            Plotly.purge(gd);\n",
              "            observer.disconnect();\n",
              "        }}\n",
              "}});\n",
              "\n",
              "// Listen for the removal of the full notebook cells\n",
              "var notebookContainer = gd.closest('#notebook-container');\n",
              "if (notebookContainer) {{\n",
              "    x.observe(notebookContainer, {childList: true});\n",
              "}}\n",
              "\n",
              "// Listen for the clearing of the current output cell\n",
              "var outputEl = gd.closest('.output');\n",
              "if (outputEl) {{\n",
              "    x.observe(outputEl, {childList: true});\n",
              "}}\n",
              "\n",
              "                        })                };                            </script>        </div>\n",
              "</body>\n",
              "</html>"
            ]
          },
          "metadata": {}
        }
      ],
      "source": [
        "# Graficar los embedddings en 3D\n",
        "\n",
        "vecs, labels = reduce_dimensions(w2v_model,3)\n",
        "\n",
        "fig = px.scatter_3d(x=vecs[:MAX_WORDS,0], y=vecs[:MAX_WORDS,1], z=vecs[:MAX_WORDS,2],text=labels[:MAX_WORDS])\n",
        "fig.update_traces(marker_size = 2)\n",
        "fig.show(renderer=\"colab\") # esto para plotly en colab"
      ]
    },
    {
      "cell_type": "code",
      "execution_count": null,
      "metadata": {
        "id": "Bi3LDArQgzXZ"
      },
      "outputs": [],
      "source": [
        "# También se pueden guardar los vectores y labels como tsv para graficar en\n",
        "# http://projector.tensorflow.org/\n",
        "\n",
        "\n",
        "vectors = np.asarray(w2v_model.wv.vectors)\n",
        "labels = list(w2v_model.wv.index_to_key)\n",
        "\n",
        "np.savetxt(\"vectors.tsv\", vectors, delimiter=\"\\t\")\n",
        "\n",
        "with open(\"labels.tsv\", \"w\") as fp:\n",
        "    for item in labels:\n",
        "        fp.write(\"%s\\n\" % item)"
      ]
    },
    {
      "cell_type": "markdown",
      "metadata": {
        "id": "WivQZ3ZCZ9N_"
      },
      "source": [
        "**Conclusiones**\n",
        "\n",
        "El modelo Word2Vec fue capaz de aprender relaciones semanticas significativas a partir de un corpus lírico en portugués y, a su vez, encontrar similitudes semanticas con palabras del lenguaje ingles.\n",
        "\n",
        "Las letras de canciones resultan ser un buen corpus para capturar lenguaje poético y emocional.\n",
        "\n",
        "La reduccion de dimensionalidad y visualización permitió explorar la organización interna del vocabulario aprendido.\n",
        "\n",
        "Algunas palabras \"inexistentes\" o poéticas fueron también incluidas como tokens válidos, lo que refleja la riqueza del lenguaje en las canciones."
      ]
    }
  ],
  "metadata": {
    "colab": {
      "provenance": []
    },
    "kernelspec": {
      "display_name": "Python 3 (ipykernel)",
      "language": "python",
      "name": "python3"
    },
    "language_info": {
      "codemirror_mode": {
        "name": "ipython",
        "version": 3
      },
      "file_extension": ".py",
      "mimetype": "text/x-python",
      "name": "python",
      "nbconvert_exporter": "python",
      "pygments_lexer": "ipython3",
      "version": "3.10.6"
    }
  },
  "nbformat": 4,
  "nbformat_minor": 0
}